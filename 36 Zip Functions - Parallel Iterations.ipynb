{
 "cells": [
  {
   "cell_type": "code",
   "execution_count": 1,
   "id": "03c4dbfb-142d-4393-9562-96375b77e6b7",
   "metadata": {},
   "outputs": [],
   "source": [
    "lst1 = [\"Mayur\", \"Amit\", \"Kartik\"]\n",
    "lst2 = [\"a\", \"b\",\"c\"]"
   ]
  },
  {
   "cell_type": "code",
   "execution_count": 3,
   "id": "4ae9ab7b-3e49-45ee-917e-57cc2a135702",
   "metadata": {},
   "outputs": [
    {
     "name": "stdout",
     "output_type": "stream",
     "text": [
      "Mayur\n",
      "Amit\n",
      "Kartik\n"
     ]
    }
   ],
   "source": [
    "for i in lst1:\n",
    "    print(i)"
   ]
  },
  {
   "cell_type": "code",
   "execution_count": 4,
   "id": "93b6954e-43c9-457d-956d-aa30def8ea2e",
   "metadata": {},
   "outputs": [],
   "source": [
    "output = zip(lst1, lst2)"
   ]
  },
  {
   "cell_type": "code",
   "execution_count": 5,
   "id": "b2c2490e-2761-4f06-a35d-59c9012acc9f",
   "metadata": {},
   "outputs": [
    {
     "data": {
      "text/plain": [
       "<zip at 0x1ffb13e81c0>"
      ]
     },
     "execution_count": 5,
     "metadata": {},
     "output_type": "execute_result"
    }
   ],
   "source": [
    "output"
   ]
  },
  {
   "cell_type": "code",
   "execution_count": 6,
   "id": "571525c3-7120-4f90-89b3-023a3bd59b69",
   "metadata": {},
   "outputs": [
    {
     "data": {
      "text/plain": [
       "[('Mayur', 'a'), ('Amit', 'b'), ('Kartik', 'c')]"
      ]
     },
     "execution_count": 6,
     "metadata": {},
     "output_type": "execute_result"
    }
   ],
   "source": [
    "list(output)"
   ]
  },
  {
   "cell_type": "code",
   "execution_count": 7,
   "id": "93661778-b8e4-43e0-88f9-d034e671ad3f",
   "metadata": {},
   "outputs": [
    {
     "ename": "StopIteration",
     "evalue": "",
     "output_type": "error",
     "traceback": [
      "\u001b[1;31m---------------------------------------------------------------------------\u001b[0m",
      "\u001b[1;31mStopIteration\u001b[0m                             Traceback (most recent call last)",
      "Input \u001b[1;32mIn [7]\u001b[0m, in \u001b[0;36m<cell line: 2>\u001b[1;34m()\u001b[0m\n\u001b[0;32m      1\u001b[0m \u001b[38;5;66;03m### Zip object is an iterator\u001b[39;00m\n\u001b[1;32m----> 2\u001b[0m \u001b[38;5;28;43mnext\u001b[39;49m\u001b[43m(\u001b[49m\u001b[43moutput\u001b[49m\u001b[43m)\u001b[49m\n",
      "\u001b[1;31mStopIteration\u001b[0m: "
     ]
    }
   ],
   "source": [
    "### Zip object is an iterator\n",
    "next(output)"
   ]
  },
  {
   "cell_type": "code",
   "execution_count": 8,
   "id": "2861060d-56d3-4d00-a54c-f4f0bed95c19",
   "metadata": {},
   "outputs": [],
   "source": [
    "lst1 = [\"Mayur\", \"Amit\", \"Kartik\", 4]\n",
    "lst2 = [\"a\", \"b\", \"c\"]\n",
    "lst3 = [1,2,3]"
   ]
  },
  {
   "cell_type": "code",
   "execution_count": 9,
   "id": "8c78c239-f209-43c0-b793-cc308c7016e1",
   "metadata": {},
   "outputs": [
    {
     "name": "stdout",
     "output_type": "stream",
     "text": [
      "Mayur a 1\n",
      "Amit b 2\n",
      "Kartik c 3\n"
     ]
    }
   ],
   "source": [
    "output = zip(lst1, lst2, lst3)\n",
    "for i,j,k in output:\n",
    "    print(i,j,k)"
   ]
  },
  {
   "cell_type": "code",
   "execution_count": 10,
   "id": "43b26696-b235-45bb-8141-79b1dc2d7afe",
   "metadata": {},
   "outputs": [
    {
     "data": {
      "text/plain": [
       "[]"
      ]
     },
     "execution_count": 10,
     "metadata": {},
     "output_type": "execute_result"
    }
   ],
   "source": [
    "list(zip())"
   ]
  },
  {
   "cell_type": "code",
   "execution_count": 11,
   "id": "ae144210-81ee-4cc0-8fab-555da59806c4",
   "metadata": {},
   "outputs": [],
   "source": [
    "dict1 = {\"name\":\"Mayur\", \"lst_name\":\"Tembhare\", \"age\":23 }\n",
    "dict2 = {\"name\":\"Amit\", \"lst_name\":\"Rahangdale\", \"age\":21 }"
   ]
  },
  {
   "cell_type": "code",
   "execution_count": 12,
   "id": "4c01436f-8a20-4662-8231-c54cbe109ee1",
   "metadata": {},
   "outputs": [],
   "source": [
    "dictionary = zip(dict1.items(), dict2.items())"
   ]
  },
  {
   "cell_type": "code",
   "execution_count": 13,
   "id": "f6e6ebf5-0c3c-46de-9c93-9a5756e9be8f",
   "metadata": {},
   "outputs": [
    {
     "data": {
      "text/plain": [
       "{'name': 'Mayur', 'lst_name': 'Tembhare', 'age': 23}"
      ]
     },
     "execution_count": 13,
     "metadata": {},
     "output_type": "execute_result"
    }
   ],
   "source": [
    "dict1"
   ]
  },
  {
   "cell_type": "code",
   "execution_count": 14,
   "id": "9d1c86dc-f053-46cc-b938-1ea28de159f5",
   "metadata": {},
   "outputs": [
    {
     "name": "stdout",
     "output_type": "stream",
     "text": [
      "name Mayur\n",
      "name Amit\n",
      "lst_name Tembhare\n",
      "lst_name Rahangdale\n",
      "age 23\n",
      "age 21\n"
     ]
    }
   ],
   "source": [
    "for(i,j),(i2,j2) in dictionary:\n",
    "    print(i, j)\n",
    "    print(i2, j2)"
   ]
  },
  {
   "cell_type": "code",
   "execution_count": null,
   "id": "0435a76d-a8db-450e-8ef5-2433915f0b1a",
   "metadata": {},
   "outputs": [],
   "source": []
  }
 ],
 "metadata": {
  "kernelspec": {
   "display_name": "Python 3 (ipykernel)",
   "language": "python",
   "name": "python3"
  },
  "language_info": {
   "codemirror_mode": {
    "name": "ipython",
    "version": 3
   },
   "file_extension": ".py",
   "mimetype": "text/x-python",
   "name": "python",
   "nbconvert_exporter": "python",
   "pygments_lexer": "ipython3",
   "version": "3.9.12"
  }
 },
 "nbformat": 4,
 "nbformat_minor": 5
}
