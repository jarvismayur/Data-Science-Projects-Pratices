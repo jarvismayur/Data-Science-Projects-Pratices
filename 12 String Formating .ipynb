{
 "cells": [
  {
   "cell_type": "markdown",
   "id": "70a41d7f",
   "metadata": {},
   "source": [
    "## String Formatting \n",
    "\n",
    "- Place Holder \n",
    "- Tempopory Variables "
   ]
  },
  {
   "cell_type": "code",
   "execution_count": 1,
   "id": "e031b545",
   "metadata": {},
   "outputs": [
    {
     "name": "stdout",
     "output_type": "stream",
     "text": [
      "Hello Everyone\n"
     ]
    }
   ],
   "source": [
    "print(\"Hello Everyone\")"
   ]
  },
  {
   "cell_type": "code",
   "execution_count": 2,
   "id": "dabbba6a",
   "metadata": {},
   "outputs": [],
   "source": [
    "str = \"HEllo World \""
   ]
  },
  {
   "cell_type": "code",
   "execution_count": 3,
   "id": "8d6218d0",
   "metadata": {},
   "outputs": [
    {
     "name": "stdout",
     "output_type": "stream",
     "text": [
      "HEllo World \n"
     ]
    }
   ],
   "source": [
    "print(str)"
   ]
  },
  {
   "cell_type": "code",
   "execution_count": 4,
   "id": "c8a6bf42",
   "metadata": {},
   "outputs": [],
   "source": [
    "def greeting(name):\n",
    "    return \"Hello {}. Welcome the Community\".format(name)"
   ]
  },
  {
   "cell_type": "code",
   "execution_count": 5,
   "id": "b5fecd6d",
   "metadata": {},
   "outputs": [
    {
     "data": {
      "text/plain": [
       "'Hello Mayur Tembhare. Welcome the Community'"
      ]
     },
     "execution_count": 5,
     "metadata": {},
     "output_type": "execute_result"
    }
   ],
   "source": [
    "greeting(\"Mayur Tembhare\")"
   ]
  },
  {
   "cell_type": "code",
   "execution_count": 6,
   "id": "dcab0db6",
   "metadata": {},
   "outputs": [],
   "source": [
    "def welcome_email(firstname, lastname):\n",
    "    return \" Welcome {}. Everyone please Welcome {}\".format(firstname, lastname)"
   ]
  },
  {
   "cell_type": "code",
   "execution_count": 7,
   "id": "4a3298fb",
   "metadata": {},
   "outputs": [
    {
     "data": {
      "text/plain": [
       "' Welcome Mayur. Everyone please Welcome Tembhare'"
      ]
     },
     "execution_count": 7,
     "metadata": {},
     "output_type": "execute_result"
    }
   ],
   "source": [
    "welcome_email(\"Mayur\", \"Tembhare\")"
   ]
  },
  {
   "cell_type": "code",
   "execution_count": 8,
   "id": "9b7f6040",
   "metadata": {},
   "outputs": [],
   "source": [
    "def welcome_email(name,age):\n",
    "    return \"Welcome {}. Your Age is {}\".format(name,age)"
   ]
  },
  {
   "cell_type": "code",
   "execution_count": 9,
   "id": "0b421430",
   "metadata": {},
   "outputs": [
    {
     "data": {
      "text/plain": [
       "'Welcome Bunny. Your Age is 23'"
      ]
     },
     "execution_count": 9,
     "metadata": {},
     "output_type": "execute_result"
    }
   ],
   "source": [
    "welcome_email(\"Bunny\", 23)"
   ]
  },
  {
   "cell_type": "code",
   "execution_count": 10,
   "id": "6f0e7f7c",
   "metadata": {},
   "outputs": [],
   "source": [
    " ## Order Place A Very Crusiual Role in Format Method \n",
    "def welcome_email(name, age):\n",
    "    return \" Welcome {}. Your Age is {}\".format(age, name)"
   ]
  },
  {
   "cell_type": "code",
   "execution_count": 11,
   "id": "35c3eb73",
   "metadata": {},
   "outputs": [
    {
     "data": {
      "text/plain": [
       "' Welcome 23. Your Age is Mayur'"
      ]
     },
     "execution_count": 11,
     "metadata": {},
     "output_type": "execute_result"
    }
   ],
   "source": [
    "welcome_email(\"Mayur\", 23)"
   ]
  },
  {
   "cell_type": "code",
   "execution_count": 12,
   "id": "b2b1d995",
   "metadata": {},
   "outputs": [],
   "source": [
    "def welcome_email(name, age):\n",
    "    return \" Welcome {name}. Your age is {age}\".format(name=name, age=age)"
   ]
  },
  {
   "cell_type": "code",
   "execution_count": 13,
   "id": "6991d416",
   "metadata": {},
   "outputs": [
    {
     "data": {
      "text/plain": [
       "' Welcome Mumma. Your age is 23'"
      ]
     },
     "execution_count": 13,
     "metadata": {},
     "output_type": "execute_result"
    }
   ],
   "source": [
    "welcome_email(\"Mumma\", 23)"
   ]
  },
  {
   "cell_type": "code",
   "execution_count": 14,
   "id": "4b3a303d",
   "metadata": {},
   "outputs": [],
   "source": [
    "def welcome_email(name, age):\n",
    "    return \"Welcome {fun}. Your age is {chill}\".format(fun=name, chill=age)"
   ]
  },
  {
   "cell_type": "code",
   "execution_count": 15,
   "id": "c64530f4",
   "metadata": {},
   "outputs": [
    {
     "data": {
      "text/plain": [
       "'Welcome Mayur. Your age is 23'"
      ]
     },
     "execution_count": 15,
     "metadata": {},
     "output_type": "execute_result"
    }
   ],
   "source": [
    "welcome_email(\"Mayur\", 23)"
   ]
  },
  {
   "cell_type": "code",
   "execution_count": 18,
   "id": "14dd7eb7",
   "metadata": {},
   "outputs": [],
   "source": [
    "def welcome_email(name, age):\n",
    "    return \"Welcome {fun}. Your age is {chill} {}\".format(fun=name, chill=age)"
   ]
  },
  {
   "cell_type": "code",
   "execution_count": 17,
   "id": "2243ca85",
   "metadata": {},
   "outputs": [
    {
     "ename": "IndexError",
     "evalue": "Replacement index 0 out of range for positional args tuple",
     "output_type": "error",
     "traceback": [
      "\u001b[1;31m---------------------------------------------------------------------------\u001b[0m",
      "\u001b[1;31mIndexError\u001b[0m                                Traceback (most recent call last)",
      "\u001b[1;32m~\\AppData\\Local\\Temp/ipykernel_14376/2439829515.py\u001b[0m in \u001b[0;36m<module>\u001b[1;34m\u001b[0m\n\u001b[1;32m----> 1\u001b[1;33m \u001b[0mwelcome_email\u001b[0m\u001b[1;33m(\u001b[0m\u001b[1;34m\"Mayur\"\u001b[0m\u001b[1;33m,\u001b[0m \u001b[1;36m23\u001b[0m\u001b[1;33m)\u001b[0m\u001b[1;33m\u001b[0m\u001b[1;33m\u001b[0m\u001b[0m\n\u001b[0m",
      "\u001b[1;32m~\\AppData\\Local\\Temp/ipykernel_14376/3917669145.py\u001b[0m in \u001b[0;36mwelcome_email\u001b[1;34m(name, age)\u001b[0m\n\u001b[0;32m      1\u001b[0m \u001b[1;32mdef\u001b[0m \u001b[0mwelcome_email\u001b[0m\u001b[1;33m(\u001b[0m\u001b[0mname\u001b[0m\u001b[1;33m,\u001b[0m \u001b[0mage\u001b[0m\u001b[1;33m)\u001b[0m\u001b[1;33m:\u001b[0m\u001b[1;33m\u001b[0m\u001b[1;33m\u001b[0m\u001b[0m\n\u001b[1;32m----> 2\u001b[1;33m     \u001b[1;32mreturn\u001b[0m \u001b[1;34m\"Welcome {fun}. Your age is {chill} {}\"\u001b[0m\u001b[1;33m.\u001b[0m\u001b[0mformat\u001b[0m\u001b[1;33m(\u001b[0m\u001b[0mfun\u001b[0m\u001b[1;33m=\u001b[0m\u001b[0mname\u001b[0m\u001b[1;33m,\u001b[0m \u001b[0mchill\u001b[0m\u001b[1;33m=\u001b[0m\u001b[0mage\u001b[0m\u001b[1;33m)\u001b[0m\u001b[1;33m\u001b[0m\u001b[1;33m\u001b[0m\u001b[0m\n\u001b[0m",
      "\u001b[1;31mIndexError\u001b[0m: Replacement index 0 out of range for positional args tuple"
     ]
    }
   ],
   "source": [
    "welcome_email(\"Mayur\", 23)"
   ]
  },
  {
   "cell_type": "code",
   "execution_count": null,
   "id": "c69aab0a",
   "metadata": {},
   "outputs": [],
   "source": []
  }
 ],
 "metadata": {
  "kernelspec": {
   "display_name": "Python 3 (ipykernel)",
   "language": "python",
   "name": "python3"
  },
  "language_info": {
   "codemirror_mode": {
    "name": "ipython",
    "version": 3
   },
   "file_extension": ".py",
   "mimetype": "text/x-python",
   "name": "python",
   "nbconvert_exporter": "python",
   "pygments_lexer": "ipython3",
   "version": "3.9.7"
  }
 },
 "nbformat": 4,
 "nbformat_minor": 5
}
