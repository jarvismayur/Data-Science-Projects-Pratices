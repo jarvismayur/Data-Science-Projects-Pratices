{
 "cells": [
  {
   "cell_type": "markdown",
   "id": "374f83f6-ea84-43ea-90e5-486802b36f32",
   "metadata": {},
   "source": [
    "## Decorators\n",
    "\n",
    "- Function Copy\n",
    "- Closures\n",
    "- Decorators"
   ]
  },
  {
   "cell_type": "code",
   "execution_count": 6,
   "id": "ab76c437-19cc-4110-8bcd-5d0163ebb896",
   "metadata": {},
   "outputs": [],
   "source": [
    "def welcome(): # Writing A Function \n",
    "    return \"Welcome to Krish Naik Youtube Channel\""
   ]
  },
  {
   "cell_type": "code",
   "execution_count": 7,
   "id": "4ee8cdbb-c3d3-4ec2-ae7f-19c8c5c176d9",
   "metadata": {},
   "outputs": [],
   "source": [
    "wel = welcome() # Creating a Object "
   ]
  },
  {
   "cell_type": "code",
   "execution_count": 8,
   "id": "5eae31f8-629a-4061-a934-cf22e897f832",
   "metadata": {},
   "outputs": [],
   "source": [
    "del welcome # Deleteing the Function Definition Itself"
   ]
  },
  {
   "cell_type": "code",
   "execution_count": 9,
   "id": "5ad4d248-80f1-4444-b150-6327ed431c4d",
   "metadata": {},
   "outputs": [
    {
     "data": {
      "text/plain": [
       "'Welcome to Krish Naik Youtube Channel'"
      ]
     },
     "execution_count": 9,
     "metadata": {},
     "output_type": "execute_result"
    }
   ],
   "source": [
    "wel # Calling a function Object when it is still deleted Already"
   ]
  },
  {
   "cell_type": "code",
   "execution_count": 10,
   "id": "075a5f65-d3d9-400b-8cb2-95f1508a6cc8",
   "metadata": {},
   "outputs": [
    {
     "ename": "NameError",
     "evalue": "name 'welcome' is not defined",
     "output_type": "error",
     "traceback": [
      "\u001b[1;31m---------------------------------------------------------------------------\u001b[0m",
      "\u001b[1;31mNameError\u001b[0m                                 Traceback (most recent call last)",
      "Input \u001b[1;32mIn [10]\u001b[0m, in \u001b[0;36m<cell line: 1>\u001b[1;34m()\u001b[0m\n\u001b[1;32m----> 1\u001b[0m \u001b[43mwelcome\u001b[49m()\n",
      "\u001b[1;31mNameError\u001b[0m: name 'welcome' is not defined"
     ]
    }
   ],
   "source": [
    "welcome() # Here we can see the Function Does not exists"
   ]
  },
  {
   "cell_type": "code",
   "execution_count": 15,
   "id": "2a7f125d-c818-4321-a173-8e590d7905a9",
   "metadata": {},
   "outputs": [],
   "source": [
    "### Closures\n",
    "def main_welcome(msg): # This Type Function Returns an embedded Function which are written inside them ! \n",
    "    def sub_welcome_class():\n",
    "        print(\"Welcome To Mayur Tembhare Life With A Lots Goals.\")\n",
    "        print(msg)\n",
    "        print(\"Please subscribe Mayur Tembhare's Life. Stay Tuned.\")\n",
    "    return sub_welcome_class()"
   ]
  },
  {
   "cell_type": "code",
   "execution_count": 16,
   "id": "c37d5080-d666-4ee8-b457-a661b7aea2b6",
   "metadata": {},
   "outputs": [
    {
     "name": "stdout",
     "output_type": "stream",
     "text": [
      "Welcome To Mayur Tembhare Life With A Lots Goals.\n",
      "Bunny\n",
      "Please subscribe Mayur Tembhare's Life. Stay Tuned.\n"
     ]
    }
   ],
   "source": [
    "main_welcome(\"Bunny\")"
   ]
  },
  {
   "cell_type": "code",
   "execution_count": 20,
   "id": "bc0cd419-4387-4191-b52f-ef40610b6d75",
   "metadata": {},
   "outputs": [],
   "source": [
    "### Closures & Initials Decorators\n",
    "def main_welcome(func):\n",
    "    def sub_welcome_class():\n",
    "        print(\"Welcome To Mayur Tembhare's Life With A Lots Goals.\")\n",
    "        print(func([1,2,3,4,5,6])) ## Here the Parameter is Converted into the Functions \n",
    "        print(\"Please Subscribe Mayur Tembhare's Life. Stay Tuned.\")\n",
    "    return sub_welcome_class()"
   ]
  },
  {
   "cell_type": "code",
   "execution_count": 21,
   "id": "0ac7ff19-ec7a-4a43-af56-84cb6f2cf19a",
   "metadata": {},
   "outputs": [
    {
     "name": "stdout",
     "output_type": "stream",
     "text": [
      "Welcome To Mayur Tembhare's Life With A Lots Goals.\n",
      "6\n",
      "Please Subscribe Mayur Tembhare's Life. Stay Tuned.\n"
     ]
    }
   ],
   "source": [
    "main_welcome(len)"
   ]
  },
  {
   "cell_type": "code",
   "execution_count": 35,
   "id": "d8c2fd6d-19b8-4e7a-9431-93cd96a0c7b5",
   "metadata": {},
   "outputs": [],
   "source": [
    "## Decorators\n",
    "def main_welcome(func):\n",
    "    def sub_welcome_class():\n",
    "        print(\"Welcome To Mayur Tembhare's Life With A Lots of Goals.\")\n",
    "        func()\n",
    "        print(\"Please Subscribe Mayur Tembhare's Life. Stay Tuned.\")\n",
    "    return sub_welcome_class()"
   ]
  },
  {
   "cell_type": "code",
   "execution_count": 36,
   "id": "9ba645c7-437a-4b96-8a2a-1043f9c0f652",
   "metadata": {},
   "outputs": [
    {
     "name": "stdout",
     "output_type": "stream",
     "text": [
      "Welcome To Mayur Tembhare's Life With A Lots of Goals.\n",
      "This is Mayur Tembhare's Life\n",
      "Please Subscribe Mayur Tembhare's Life. Stay Tuned.\n"
     ]
    }
   ],
   "source": [
    "@main_welcome\n",
    "def channel_name():\n",
    "    print(\"This is Mayur Tembhare's Life\")"
   ]
  },
  {
   "cell_type": "code",
   "execution_count": 37,
   "id": "eb6b3410-efc8-43fb-a0d4-1ad438d0f02c",
   "metadata": {},
   "outputs": [
    {
     "name": "stdout",
     "output_type": "stream",
     "text": [
      "Welcome To Mayur Tembhare's Life With A Lots of Goals.\n"
     ]
    },
    {
     "ename": "TypeError",
     "evalue": "'NoneType' object is not callable",
     "output_type": "error",
     "traceback": [
      "\u001b[1;31m---------------------------------------------------------------------------\u001b[0m",
      "\u001b[1;31mTypeError\u001b[0m                                 Traceback (most recent call last)",
      "Input \u001b[1;32mIn [37]\u001b[0m, in \u001b[0;36m<cell line: 1>\u001b[1;34m()\u001b[0m\n\u001b[1;32m----> 1\u001b[0m a \u001b[38;5;241m=\u001b[39m \u001b[43mmain_welcome\u001b[49m\u001b[43m(\u001b[49m\u001b[43mchannel_name\u001b[49m\u001b[43m)\u001b[49m\n",
      "Input \u001b[1;32mIn [35]\u001b[0m, in \u001b[0;36mmain_welcome\u001b[1;34m(func)\u001b[0m\n\u001b[0;32m      5\u001b[0m     func()\n\u001b[0;32m      6\u001b[0m     \u001b[38;5;28mprint\u001b[39m(\u001b[38;5;124m\"\u001b[39m\u001b[38;5;124mPlease Subscribe Mayur Tembhare\u001b[39m\u001b[38;5;124m'\u001b[39m\u001b[38;5;124ms Life. Stay Tuned.\u001b[39m\u001b[38;5;124m\"\u001b[39m)\n\u001b[1;32m----> 7\u001b[0m \u001b[38;5;28;01mreturn\u001b[39;00m \u001b[43msub_welcome_class\u001b[49m\u001b[43m(\u001b[49m\u001b[43m)\u001b[49m\n",
      "Input \u001b[1;32mIn [35]\u001b[0m, in \u001b[0;36mmain_welcome.<locals>.sub_welcome_class\u001b[1;34m()\u001b[0m\n\u001b[0;32m      3\u001b[0m \u001b[38;5;28;01mdef\u001b[39;00m \u001b[38;5;21msub_welcome_class\u001b[39m():\n\u001b[0;32m      4\u001b[0m     \u001b[38;5;28mprint\u001b[39m(\u001b[38;5;124m\"\u001b[39m\u001b[38;5;124mWelcome To Mayur Tembhare\u001b[39m\u001b[38;5;124m'\u001b[39m\u001b[38;5;124ms Life With A Lots of Goals.\u001b[39m\u001b[38;5;124m\"\u001b[39m)\n\u001b[1;32m----> 5\u001b[0m     \u001b[43mfunc\u001b[49m\u001b[43m(\u001b[49m\u001b[43m)\u001b[49m\n\u001b[0;32m      6\u001b[0m     \u001b[38;5;28mprint\u001b[39m(\u001b[38;5;124m\"\u001b[39m\u001b[38;5;124mPlease Subscribe Mayur Tembhare\u001b[39m\u001b[38;5;124m'\u001b[39m\u001b[38;5;124ms Life. Stay Tuned.\u001b[39m\u001b[38;5;124m\"\u001b[39m)\n",
      "\u001b[1;31mTypeError\u001b[0m: 'NoneType' object is not callable"
     ]
    }
   ],
   "source": [
    "a = main_welcome(channel_name)"
   ]
  },
  {
   "cell_type": "code",
   "execution_count": 38,
   "id": "f074109b-ee2d-439d-9f37-98b5dde3e325",
   "metadata": {},
   "outputs": [],
   "source": [
    "a"
   ]
  },
  {
   "cell_type": "code",
   "execution_count": 39,
   "id": "7ed6a22e-bfe1-43ab-b241-f1a4ab7116a8",
   "metadata": {},
   "outputs": [
    {
     "name": "stdout",
     "output_type": "stream",
     "text": [
      "None\n"
     ]
    }
   ],
   "source": [
    "print(a)"
   ]
  },
  {
   "cell_type": "code",
   "execution_count": 40,
   "id": "8a4a8668-1793-43e1-85b2-c7179decd740",
   "metadata": {},
   "outputs": [
    {
     "name": "stdout",
     "output_type": "stream",
     "text": [
      "Welcome To Mayur Tembhare's Life With A Lots of Goals.\n"
     ]
    },
    {
     "ename": "TypeError",
     "evalue": "'NoneType' object is not callable",
     "output_type": "error",
     "traceback": [
      "\u001b[1;31m---------------------------------------------------------------------------\u001b[0m",
      "\u001b[1;31mTypeError\u001b[0m                                 Traceback (most recent call last)",
      "Input \u001b[1;32mIn [40]\u001b[0m, in \u001b[0;36m<cell line: 1>\u001b[1;34m()\u001b[0m\n\u001b[1;32m----> 1\u001b[0m \u001b[43mmain_welcome\u001b[49m\u001b[43m(\u001b[49m\u001b[43mchannel_name\u001b[49m\u001b[43m)\u001b[49m\n",
      "Input \u001b[1;32mIn [35]\u001b[0m, in \u001b[0;36mmain_welcome\u001b[1;34m(func)\u001b[0m\n\u001b[0;32m      5\u001b[0m     func()\n\u001b[0;32m      6\u001b[0m     \u001b[38;5;28mprint\u001b[39m(\u001b[38;5;124m\"\u001b[39m\u001b[38;5;124mPlease Subscribe Mayur Tembhare\u001b[39m\u001b[38;5;124m'\u001b[39m\u001b[38;5;124ms Life. Stay Tuned.\u001b[39m\u001b[38;5;124m\"\u001b[39m)\n\u001b[1;32m----> 7\u001b[0m \u001b[38;5;28;01mreturn\u001b[39;00m \u001b[43msub_welcome_class\u001b[49m\u001b[43m(\u001b[49m\u001b[43m)\u001b[49m\n",
      "Input \u001b[1;32mIn [35]\u001b[0m, in \u001b[0;36mmain_welcome.<locals>.sub_welcome_class\u001b[1;34m()\u001b[0m\n\u001b[0;32m      3\u001b[0m \u001b[38;5;28;01mdef\u001b[39;00m \u001b[38;5;21msub_welcome_class\u001b[39m():\n\u001b[0;32m      4\u001b[0m     \u001b[38;5;28mprint\u001b[39m(\u001b[38;5;124m\"\u001b[39m\u001b[38;5;124mWelcome To Mayur Tembhare\u001b[39m\u001b[38;5;124m'\u001b[39m\u001b[38;5;124ms Life With A Lots of Goals.\u001b[39m\u001b[38;5;124m\"\u001b[39m)\n\u001b[1;32m----> 5\u001b[0m     \u001b[43mfunc\u001b[49m\u001b[43m(\u001b[49m\u001b[43m)\u001b[49m\n\u001b[0;32m      6\u001b[0m     \u001b[38;5;28mprint\u001b[39m(\u001b[38;5;124m\"\u001b[39m\u001b[38;5;124mPlease Subscribe Mayur Tembhare\u001b[39m\u001b[38;5;124m'\u001b[39m\u001b[38;5;124ms Life. Stay Tuned.\u001b[39m\u001b[38;5;124m\"\u001b[39m)\n",
      "\u001b[1;31mTypeError\u001b[0m: 'NoneType' object is not callable"
     ]
    }
   ],
   "source": [
    "main_welcome(channel_name)"
   ]
  },
  {
   "cell_type": "code",
   "execution_count": null,
   "id": "3ebec02f-144e-4f94-8484-fd15c65f8f3e",
   "metadata": {},
   "outputs": [],
   "source": []
  },
  {
   "cell_type": "code",
   "execution_count": null,
   "id": "eb6c2f01-aad7-44bb-a30e-b9862f5bab0c",
   "metadata": {},
   "outputs": [],
   "source": []
  }
 ],
 "metadata": {
  "kernelspec": {
   "display_name": "Python 3 (ipykernel)",
   "language": "python",
   "name": "python3"
  },
  "language_info": {
   "codemirror_mode": {
    "name": "ipython",
    "version": 3
   },
   "file_extension": ".py",
   "mimetype": "text/x-python",
   "name": "python",
   "nbconvert_exporter": "python",
   "pygments_lexer": "ipython3",
   "version": "3.9.12"
  }
 },
 "nbformat": 4,
 "nbformat_minor": 5
}
