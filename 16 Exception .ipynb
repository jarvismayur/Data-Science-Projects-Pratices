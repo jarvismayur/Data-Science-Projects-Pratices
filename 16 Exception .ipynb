{
 "cells": [
  {
   "cell_type": "markdown",
   "id": "a35adcfd",
   "metadata": {},
   "source": [
    "## Python Expection Handling \n",
    "\n",
    "- how we can handle exceptions\n",
    "- how we can raise an exceptions\n",
    "- how we can create an expections\n",
    "- Assert Keyword With Exception Handling\n"
   ]
  },
  {
   "cell_type": "code",
   "execution_count": 1,
   "id": "216cc086",
   "metadata": {},
   "outputs": [
    {
     "ename": "NameError",
     "evalue": "name 'b' is not defined",
     "output_type": "error",
     "traceback": [
      "\u001b[1;31m---------------------------------------------------------------------------\u001b[0m",
      "\u001b[1;31mNameError\u001b[0m                                 Traceback (most recent call last)",
      "\u001b[1;32m~\\AppData\\Local\\Temp/ipykernel_9332/905401003.py\u001b[0m in \u001b[0;36m<module>\u001b[1;34m\u001b[0m\n\u001b[1;32m----> 1\u001b[1;33m \u001b[0ma\u001b[0m\u001b[1;33m=\u001b[0m\u001b[0mb\u001b[0m\u001b[1;33m\u001b[0m\u001b[1;33m\u001b[0m\u001b[0m\n\u001b[0m",
      "\u001b[1;31mNameError\u001b[0m: name 'b' is not defined"
     ]
    }
   ],
   "source": [
    "a=b"
   ]
  },
  {
   "cell_type": "code",
   "execution_count": 2,
   "id": "eff093c3",
   "metadata": {},
   "outputs": [
    {
     "name": "stdout",
     "output_type": "stream",
     "text": [
      "Some Problem may have occured !\n"
     ]
    }
   ],
   "source": [
    "try:\n",
    "    # Code block where expection can occurs\n",
    "    a=b\n",
    "except:\n",
    "    print(\"Some Problem may have occured !\")"
   ]
  },
  {
   "cell_type": "code",
   "execution_count": 3,
   "id": "3731783f",
   "metadata": {},
   "outputs": [
    {
     "name": "stdout",
     "output_type": "stream",
     "text": [
      "name 'b' is not defined\n"
     ]
    }
   ],
   "source": [
    "try:\n",
    "    # Code block where exception can occurs\n",
    "    a=b\n",
    "except Exception as ex:\n",
    "    print(ex)"
   ]
  },
  {
   "cell_type": "code",
   "execution_count": 4,
   "id": "3953b427",
   "metadata": {},
   "outputs": [
    {
     "name": "stdout",
     "output_type": "stream",
     "text": [
      "The user have not defined the variable\n"
     ]
    }
   ],
   "source": [
    "try:\n",
    "    ## code block where exception can occurs\n",
    "    a=b\n",
    "except NameError as ex1: ## NameError is derived class of Exception Class\n",
    "    print(\"The user have not defined the variable\")\n",
    "except Exception as ex: ## Child class are written frist and Parent should always be in the bottom of other exception class \n",
    "    print(ex)"
   ]
  },
  {
   "cell_type": "code",
   "execution_count": 5,
   "id": "c22dbf76",
   "metadata": {},
   "outputs": [
    {
     "name": "stdout",
     "output_type": "stream",
     "text": [
      "unsupported operand type(s) for +: 'int' and 'str'\n"
     ]
    }
   ],
   "source": [
    " try:\n",
    "    ## code block where exception can occurs\n",
    "    a=1\n",
    "    b=\"s\"\n",
    "    c=a+b\n",
    "except NameError as ex1: ## NameError is derived class of Exception Class\n",
    "    print(\"The user have not defined the variable\")\n",
    "except Exception as ex: ## Child class are written frist and Parent should always be in the bottom of other exception class \n",
    "    print(ex)"
   ]
  },
  {
   "cell_type": "code",
   "execution_count": 6,
   "id": "4c409630",
   "metadata": {},
   "outputs": [
    {
     "name": "stdout",
     "output_type": "stream",
     "text": [
      "Try to make the Data Type Similar\n"
     ]
    }
   ],
   "source": [
    " try:\n",
    "    ## code block where exception can occurs\n",
    "    a=1\n",
    "    b=\"s\"\n",
    "    c=a+b\n",
    "except NameError as ex1: ## NameError is derived class of Exception Class\n",
    "    print(\"The user have not defined the variable\")\n",
    "except TypeError:\n",
    "    print(\"Try to make the Data Type Similar\")\n",
    "except Exception as ex: ## Child class are written frist and Parent should always be in the bottom of other exception class \n",
    "    print(ex)"
   ]
  },
  {
   "cell_type": "code",
   "execution_count": 7,
   "id": "597c9ff0",
   "metadata": {},
   "outputs": [
    {
     "name": "stdout",
     "output_type": "stream",
     "text": [
      "Enter the number 1 24\n",
      "Enter the number 2 4\n",
      "6.0\n",
      "96\n",
      "28\n"
     ]
    }
   ],
   "source": [
    "try:\n",
    "    ## Code block where exception can occurs\n",
    "    a = int(input(\"Enter the number 1 \"))\n",
    "    b = int(input(\"Enter the number 2 \"))\n",
    "    c = a/b  ## Division By Zero Error Can Occur\n",
    "    d = a*b\n",
    "    e = a+b\n",
    "    print(c)\n",
    "    print(d)\n",
    "    print(e)\n",
    "except NameError:\n",
    "    print(\"The user have not defined the variable\")\n",
    "except TypeError:\n",
    "    print(\"Try to make the datatype similar\")\n",
    "except Exception as ex:\n",
    "    print(ex)"
   ]
  },
  {
   "cell_type": "code",
   "execution_count": 8,
   "id": "0868d6b8",
   "metadata": {},
   "outputs": [
    {
     "name": "stdout",
     "output_type": "stream",
     "text": [
      "Enter the number 1 12\n",
      "Enter the number 2 0\n",
      "Please Provide a Number Greater that Zero \n"
     ]
    }
   ],
   "source": [
    "try:\n",
    "    ## Code block where exception can occurs\n",
    "    a = int(input(\"Enter the number 1 \"))\n",
    "    b = int(input(\"Enter the number 2 \"))\n",
    "    c = a/b  ## Division By Zero Error Can Occur\n",
    "    d = a*b\n",
    "    e = a+b\n",
    "    print(c)\n",
    "    print(d)\n",
    "    print(e)\n",
    "except NameError:\n",
    "    print(\"The user have not defined the variable\")\n",
    "except ZeroDivisionError:\n",
    "    print(\"Please Provide a Number Greater that Zero \")\n",
    "except TypeError:\n",
    "    print(\"Try to make the datatype similar\")\n",
    "except Exception as ex:\n",
    "    print(ex)"
   ]
  },
  {
   "cell_type": "code",
   "execution_count": 9,
   "id": "83523b8c",
   "metadata": {},
   "outputs": [
    {
     "name": "stdout",
     "output_type": "stream",
     "text": [
      "Enter the number 1 12\n",
      "Enter the number 2 4\n",
      "3.0\n",
      "48\n",
      "16\n"
     ]
    }
   ],
   "source": [
    "## Try ,Except , Else Block are here to Demostrated \n",
    "try:\n",
    "    ## Code block where exception can occurs\n",
    "    a = int(input(\"Enter the number 1 \"))\n",
    "    b = int(input(\"Enter the number 2 \"))\n",
    "    c = a/b  ## Division By Zero Error Can Occur\n",
    "    d = a*b\n",
    "    e = a+b\n",
    "except NameError:\n",
    "    print(\"The user have not defined the variable\")\n",
    "except ZeroDivisionError:\n",
    "    print(\"Please Provide a Number Greater that Zero \")\n",
    "except TypeError:\n",
    "    print(\"Try to make the datatype similar\")\n",
    "except Exception as ex:\n",
    "    print(ex)\n",
    "else:   ## Additional Else Block for the Other things to Execute After the Try Block to be Executed Smoothly if exception is not occured\n",
    "    print(c)\n",
    "    print(d)\n",
    "    print(e)"
   ]
  },
  {
   "cell_type": "code",
   "execution_count": 12,
   "id": "816004e9",
   "metadata": {},
   "outputs": [
    {
     "name": "stdout",
     "output_type": "stream",
     "text": [
      "Enter the number 1 12\n",
      "Enter the number 2 4\n",
      "3.0\n",
      "48\n",
      "16\n",
      "The execution is Done !!\n"
     ]
    }
   ],
   "source": [
    "## Try, Except, Else , Finally Blocks are Demonstrated Here\n",
    "try:\n",
    "    ## Code block where exception can occurs\n",
    "    a = int(input(\"Enter the number 1 \"))\n",
    "    b = int(input(\"Enter the number 2 \"))\n",
    "    c = a/b  ## Division By Zero Error Can Occur\n",
    "    d = a*b\n",
    "    e = a+b\n",
    "except NameError:\n",
    "    print(\"The user have not defined the variable\")\n",
    "except ZeroDivisionError:\n",
    "    print(\"Please Provide a Number Greater that Zero \")\n",
    "except TypeError:\n",
    "    print(\"Try to make the datatype similar\")\n",
    "except Exception as ex:\n",
    "    print(ex)\n",
    "else:   ## Additional Else Block for the Other things to Execute After the Try Block to be Executed Smoothly if exception is not occured\n",
    "    print(c)\n",
    "    print(d)\n",
    "    print(e)\n",
    "finally: ## Finally Block Will run Smoothly without Interruption if exception occurs or not !\n",
    "    print(\"The execution is Done !!\")\n",
    "    "
   ]
  },
  {
   "cell_type": "markdown",
   "id": "63ffabf5",
   "metadata": {},
   "source": [
    "### Assert\n",
    "\n",
    "Python provides the assert statement to check if a given logical expression is true or false. Program execution proceeds only if the expression is true and raises the Assertion Error when it is false."
   ]
  },
  {
   "cell_type": "code",
   "execution_count": 1,
   "id": "f8b2e4ff",
   "metadata": {},
   "outputs": [
    {
     "ename": "AssertionError",
     "evalue": "",
     "output_type": "error",
     "traceback": [
      "\u001b[1;31m---------------------------------------------------------------------------\u001b[0m",
      "\u001b[1;31mAssertionError\u001b[0m                            Traceback (most recent call last)",
      "\u001b[1;32m~\\AppData\\Local\\Temp/ipykernel_16468/3505213292.py\u001b[0m in \u001b[0;36m<module>\u001b[1;34m\u001b[0m\n\u001b[0;32m      1\u001b[0m \u001b[0mnum\u001b[0m \u001b[1;33m=\u001b[0m \u001b[1;36m10\u001b[0m\u001b[1;33m\u001b[0m\u001b[1;33m\u001b[0m\u001b[0m\n\u001b[1;32m----> 2\u001b[1;33m \u001b[1;32massert\u001b[0m \u001b[0mnum\u001b[0m\u001b[1;33m>\u001b[0m\u001b[1;36m10\u001b[0m\u001b[1;33m\u001b[0m\u001b[1;33m\u001b[0m\u001b[0m\n\u001b[0m",
      "\u001b[1;31mAssertionError\u001b[0m: "
     ]
    }
   ],
   "source": [
    "num = 10 \n",
    "assert num>10"
   ]
  },
  {
   "cell_type": "code",
   "execution_count": 2,
   "id": "68905c3d",
   "metadata": {},
   "outputs": [
    {
     "name": "stdout",
     "output_type": "stream",
     "text": [
      "Enter the Even Number25\n",
      "Please enter even number\n"
     ]
    }
   ],
   "source": [
    "try:\n",
    "    num = int(input(\"Enter the Even Number\"))\n",
    "    assert num%2==0\n",
    "    print(\"The number is even\")\n",
    "except AssertionError:\n",
    "    print(\"Please enter even number\")"
   ]
  },
  {
   "cell_type": "code",
   "execution_count": null,
   "id": "9a71e24d",
   "metadata": {},
   "outputs": [],
   "source": []
  }
 ],
 "metadata": {
  "kernelspec": {
   "display_name": "Python 3 (ipykernel)",
   "language": "python",
   "name": "python3"
  },
  "language_info": {
   "codemirror_mode": {
    "name": "ipython",
    "version": 3
   },
   "file_extension": ".py",
   "mimetype": "text/x-python",
   "name": "python",
   "nbconvert_exporter": "python",
   "pygments_lexer": "ipython3",
   "version": "3.9.7"
  }
 },
 "nbformat": 4,
 "nbformat_minor": 5
}
