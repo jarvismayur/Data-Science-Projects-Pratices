{
 "cells": [
  {
   "cell_type": "markdown",
   "id": "ffa45238-1a43-4719-8500-caeae1c9da2d",
   "metadata": {},
   "source": [
    "## Shallow Copy Vs Deep Copy "
   ]
  },
  {
   "cell_type": "code",
   "execution_count": 1,
   "id": "d906e3c5-351b-4d81-8fca-977bf3ae1233",
   "metadata": {},
   "outputs": [],
   "source": [
    "## =, copy(), deepcopy()\n",
    "lst1 = [1,2,3,4]\n",
    "lst2 = lst1"
   ]
  },
  {
   "cell_type": "code",
   "execution_count": 2,
   "id": "fbf23cae-122d-43d0-81d5-5e205ca32826",
   "metadata": {},
   "outputs": [],
   "source": [
    "lst2[1] = 1000"
   ]
  },
  {
   "cell_type": "code",
   "execution_count": 3,
   "id": "e20476ba-4661-4e0b-b0f8-374aa3bd9dee",
   "metadata": {},
   "outputs": [
    {
     "data": {
      "text/plain": [
       "[1, 1000, 3, 4]"
      ]
     },
     "execution_count": 3,
     "metadata": {},
     "output_type": "execute_result"
    }
   ],
   "source": [
    "lst2"
   ]
  },
  {
   "cell_type": "code",
   "execution_count": 4,
   "id": "c2e13fe4-bead-488b-aa5d-5df0fee68b69",
   "metadata": {},
   "outputs": [
    {
     "data": {
      "text/plain": [
       "[1, 1000, 3, 4]"
      ]
     },
     "execution_count": 4,
     "metadata": {},
     "output_type": "execute_result"
    }
   ],
   "source": [
    "lst1"
   ]
  },
  {
   "cell_type": "code",
   "execution_count": 5,
   "id": "973aa626-ecf0-402a-910e-354fec395ebd",
   "metadata": {},
   "outputs": [],
   "source": [
    "## Copy\n",
    "## Shallow Copy\n",
    "lst1 = [1,2,3,4]\n",
    "lst2 = lst1.copy()"
   ]
  },
  {
   "cell_type": "code",
   "execution_count": 6,
   "id": "0425cf9c-5b41-4d2e-86ce-711ba8ebfbc7",
   "metadata": {},
   "outputs": [],
   "source": [
    "lst2[1] = 1000"
   ]
  },
  {
   "cell_type": "code",
   "execution_count": 7,
   "id": "d583e1be-9a2b-4cbf-a7b2-7e19e8619918",
   "metadata": {},
   "outputs": [
    {
     "data": {
      "text/plain": [
       "([1, 1000, 3, 4], [1, 2, 3, 4])"
      ]
     },
     "execution_count": 7,
     "metadata": {},
     "output_type": "execute_result"
    }
   ],
   "source": [
    "lst2, lst1"
   ]
  },
  {
   "cell_type": "code",
   "execution_count": 8,
   "id": "8884e72f-a53b-4c40-90c2-96568b6a650f",
   "metadata": {},
   "outputs": [],
   "source": [
    "## Shallow Copy nested list\n",
    "lst1 = [[1,2,3,4],[5,6,7,8]]\n",
    "lst2 = lst1.copy()"
   ]
  },
  {
   "cell_type": "code",
   "execution_count": 9,
   "id": "c919f5c1-2f19-4245-8be9-36bc9df24044",
   "metadata": {},
   "outputs": [],
   "source": [
    "lst1[1][0] =100"
   ]
  },
  {
   "cell_type": "code",
   "execution_count": 10,
   "id": "fe507c38-9166-496a-b386-68cae51ab298",
   "metadata": {},
   "outputs": [
    {
     "data": {
      "text/plain": [
       "[[1, 2, 3, 4], [100, 6, 7, 8]]"
      ]
     },
     "execution_count": 10,
     "metadata": {},
     "output_type": "execute_result"
    }
   ],
   "source": [
    "lst1"
   ]
  },
  {
   "cell_type": "code",
   "execution_count": 11,
   "id": "743177ed-19bb-4db9-a5d2-ac59a70ae045",
   "metadata": {},
   "outputs": [
    {
     "data": {
      "text/plain": [
       "[[1, 2, 3, 4], [100, 6, 7, 8]]"
      ]
     },
     "execution_count": 11,
     "metadata": {},
     "output_type": "execute_result"
    }
   ],
   "source": [
    "lst2"
   ]
  },
  {
   "cell_type": "code",
   "execution_count": 12,
   "id": "794fa3fa-c836-4947-ae89-714ca37113ad",
   "metadata": {},
   "outputs": [],
   "source": [
    "lst1.append([2,3,4,5])"
   ]
  },
  {
   "cell_type": "code",
   "execution_count": 13,
   "id": "6efb0b7c-cd8e-4b57-8a29-f0cf76220b81",
   "metadata": {},
   "outputs": [
    {
     "data": {
      "text/plain": [
       "[[1, 2, 3, 4], [100, 6, 7, 8], [2, 3, 4, 5]]"
      ]
     },
     "execution_count": 13,
     "metadata": {},
     "output_type": "execute_result"
    }
   ],
   "source": [
    "lst1"
   ]
  },
  {
   "cell_type": "code",
   "execution_count": 14,
   "id": "10ac61e3-ee49-4fe7-8eee-a58a9bf27a5b",
   "metadata": {},
   "outputs": [
    {
     "data": {
      "text/plain": [
       "[[1, 2, 3, 4], [100, 6, 7, 8]]"
      ]
     },
     "execution_count": 14,
     "metadata": {},
     "output_type": "execute_result"
    }
   ],
   "source": [
    "lst2"
   ]
  },
  {
   "cell_type": "code",
   "execution_count": 15,
   "id": "ad5170b4-2f7d-459c-ada3-bb87e9fd4e28",
   "metadata": {},
   "outputs": [],
   "source": [
    "## deep copy\n",
    "import copy\n",
    "lst1 = [1,2,3,4]\n",
    "lst2 = copy.deepcopy(lst1)"
   ]
  },
  {
   "cell_type": "code",
   "execution_count": 16,
   "id": "661e40b2-8c71-4ef9-a184-2193edd3b668",
   "metadata": {},
   "outputs": [],
   "source": [
    "lst2[1] = 100 "
   ]
  },
  {
   "cell_type": "code",
   "execution_count": 17,
   "id": "f83897d9-57bf-4b19-a44d-898dd499d84b",
   "metadata": {},
   "outputs": [
    {
     "data": {
      "text/plain": [
       "[1, 100, 3, 4]"
      ]
     },
     "execution_count": 17,
     "metadata": {},
     "output_type": "execute_result"
    }
   ],
   "source": [
    "lst2"
   ]
  },
  {
   "cell_type": "code",
   "execution_count": 18,
   "id": "a465752f-8af3-4030-b145-266c0748bccd",
   "metadata": {},
   "outputs": [
    {
     "data": {
      "text/plain": [
       "[1, 2, 3, 4]"
      ]
     },
     "execution_count": 18,
     "metadata": {},
     "output_type": "execute_result"
    }
   ],
   "source": [
    "lst1"
   ]
  },
  {
   "cell_type": "code",
   "execution_count": 19,
   "id": "29c363fc-c09e-46cc-88fb-b43391112ac8",
   "metadata": {},
   "outputs": [],
   "source": [
    "### In a normal list shallow === deep copy\n",
    "lst1 = [[1,2,3],[3,4,5],[5,6,7]]\n",
    "lst2 = lst1.copy()"
   ]
  },
  {
   "cell_type": "code",
   "execution_count": 20,
   "id": "ac22c093-cbe5-49a9-80e9-400f3ff3ef5e",
   "metadata": {},
   "outputs": [],
   "source": [
    "lst2[1][0]=100"
   ]
  },
  {
   "cell_type": "code",
   "execution_count": 21,
   "id": "91848f01-722d-49b6-bbd4-64d0ad5eb235",
   "metadata": {},
   "outputs": [
    {
     "data": {
      "text/plain": [
       "[[1, 2, 3], [100, 4, 5], [5, 6, 7]]"
      ]
     },
     "execution_count": 21,
     "metadata": {},
     "output_type": "execute_result"
    }
   ],
   "source": [
    "lst2"
   ]
  },
  {
   "cell_type": "code",
   "execution_count": 22,
   "id": "549346f4-31e2-4c7f-a7aa-de3814855c55",
   "metadata": {},
   "outputs": [
    {
     "data": {
      "text/plain": [
       "[[1, 2, 3], [100, 4, 5], [5, 6, 7]]"
      ]
     },
     "execution_count": 22,
     "metadata": {},
     "output_type": "execute_result"
    }
   ],
   "source": [
    "lst1"
   ]
  },
  {
   "cell_type": "code",
   "execution_count": null,
   "id": "257a5aaa-07d5-45d7-8840-ed30ac72f853",
   "metadata": {},
   "outputs": [],
   "source": []
  }
 ],
 "metadata": {
  "kernelspec": {
   "display_name": "Python 3 (ipykernel)",
   "language": "python",
   "name": "python3"
  },
  "language_info": {
   "codemirror_mode": {
    "name": "ipython",
    "version": 3
   },
   "file_extension": ".py",
   "mimetype": "text/x-python",
   "name": "python",
   "nbconvert_exporter": "python",
   "pygments_lexer": "ipython3",
   "version": "3.9.12"
  }
 },
 "nbformat": 4,
 "nbformat_minor": 5
}
