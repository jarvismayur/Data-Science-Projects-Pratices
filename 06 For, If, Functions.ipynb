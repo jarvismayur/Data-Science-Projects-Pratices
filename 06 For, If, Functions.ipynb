{
 "cells": [
  {
   "cell_type": "markdown",
   "id": "473f7530",
   "metadata": {},
   "source": [
    "## For, If, Functions\n",
    "\n",
    "Functions in Python. A Function is a set of statements that take inputs, do some specific computation and produces output. These functions are called user defined function."
   ]
  },
  {
   "cell_type": "code",
   "execution_count": 3,
   "id": "f3e9350a",
   "metadata": {},
   "outputs": [
    {
     "name": "stdout",
     "output_type": "stream",
     "text": [
      "56 64\n"
     ]
    }
   ],
   "source": [
    "## If conditions and for loops\n",
    "\n",
    "lst = [1,2,3,4,5,6,7,8,9,10,11,12,13,14,15]\n",
    "\n",
    "even_sum = 0 \n",
    "odd_sum = 0\n",
    "for i in lst:\n",
    "    if i%2 == 0:\n",
    "        even_sum = even_sum + i\n",
    "    else:\n",
    "        odd_sum = odd_sum + i\n",
    "print(even_sum, odd_sum)"
   ]
  },
  {
   "cell_type": "code",
   "execution_count": 4,
   "id": "74c9f2fc",
   "metadata": {},
   "outputs": [
    {
     "data": {
      "text/plain": [
       "'\\nSyntax\\ndef funcname(parameter1, parameter2,.....):\\n    function body\\n'"
      ]
     },
     "execution_count": 4,
     "metadata": {},
     "output_type": "execute_result"
    }
   ],
   "source": [
    "'''\n",
    "Syntax\n",
    "def funcname(parameter1, parameter2,.....):\n",
    "    function body\n",
    "'''"
   ]
  },
  {
   "cell_type": "code",
   "execution_count": 5,
   "id": "d8cd868b",
   "metadata": {},
   "outputs": [],
   "source": [
    "def add(num1, num2):\n",
    "    return num1 + num2"
   ]
  },
  {
   "cell_type": "code",
   "execution_count": 6,
   "id": "ebca64ef",
   "metadata": {},
   "outputs": [
    {
     "data": {
      "text/plain": [
       "6"
      ]
     },
     "execution_count": 6,
     "metadata": {},
     "output_type": "execute_result"
    }
   ],
   "source": [
    "add(2,4)"
   ]
  },
  {
   "cell_type": "code",
   "execution_count": 9,
   "id": "2e28c71c",
   "metadata": {},
   "outputs": [],
   "source": [
    "def add_list(lst):\n",
    "    sum1 = 0\n",
    "    for i in lst:\n",
    "        print(i)\n",
    "        sum1= sum1 + int(i)\n",
    "    return sum1"
   ]
  },
  {
   "cell_type": "code",
   "execution_count": 10,
   "id": "8974fd32",
   "metadata": {},
   "outputs": [
    {
     "name": "stdout",
     "output_type": "stream",
     "text": [
      "1\n",
      "2\n",
      "3\n",
      "4\n",
      "5\n",
      "6\n"
     ]
    },
    {
     "data": {
      "text/plain": [
       "21"
      ]
     },
     "execution_count": 10,
     "metadata": {},
     "output_type": "execute_result"
    }
   ],
   "source": [
    "add_list([1,2,3,4,5,6])"
   ]
  },
  {
   "cell_type": "code",
   "execution_count": 16,
   "id": "8bb5dcca",
   "metadata": {},
   "outputs": [
    {
     "name": "stdout",
     "output_type": "stream",
     "text": [
      "Enter the list1234567\n"
     ]
    }
   ],
   "source": [
    "input_num = list(input(\"Enter the list\"))"
   ]
  },
  {
   "cell_type": "code",
   "execution_count": 17,
   "id": "6507aac5",
   "metadata": {},
   "outputs": [
    {
     "data": {
      "text/plain": [
       "['1', '2', '3', '4', '5', '6', '7']"
      ]
     },
     "execution_count": 17,
     "metadata": {},
     "output_type": "execute_result"
    }
   ],
   "source": [
    "input_num"
   ]
  },
  {
   "cell_type": "code",
   "execution_count": 18,
   "id": "b6bfa433",
   "metadata": {},
   "outputs": [
    {
     "name": "stdout",
     "output_type": "stream",
     "text": [
      "1\n",
      "2\n",
      "3\n",
      "4\n",
      "5\n",
      "6\n",
      "7\n"
     ]
    },
    {
     "data": {
      "text/plain": [
       "28"
      ]
     },
     "execution_count": 18,
     "metadata": {},
     "output_type": "execute_result"
    }
   ],
   "source": [
    "add_list(input_num)"
   ]
  },
  {
   "cell_type": "markdown",
   "id": "2f764906",
   "metadata": {},
   "source": [
    "### Functions in Python \n",
    "\n",
    "- Why Functions\n",
    "- Function Definition\n",
    "- Positional And Keyword Arguments in Functions"
   ]
  },
  {
   "cell_type": "code",
   "execution_count": 1,
   "id": "fb6fab46",
   "metadata": {},
   "outputs": [],
   "source": [
    "# Positional Argument \n",
    "## Keyword Argument \n",
    "\n",
    "def hello(name, age=23):\n",
    "    print(\"My name is {} and age is {}\".format(name,age))"
   ]
  },
  {
   "cell_type": "code",
   "execution_count": 3,
   "id": "4bdc7407",
   "metadata": {},
   "outputs": [
    {
     "ename": "TypeError",
     "evalue": "hello() missing 1 required positional argument: 'name'",
     "output_type": "error",
     "traceback": [
      "\u001b[1;31m---------------------------------------------------------------------------\u001b[0m",
      "\u001b[1;31mTypeError\u001b[0m                                 Traceback (most recent call last)",
      "\u001b[1;32m~\\AppData\\Local\\Temp/ipykernel_548/2674044599.py\u001b[0m in \u001b[0;36m<module>\u001b[1;34m\u001b[0m\n\u001b[1;32m----> 1\u001b[1;33m \u001b[0mhello\u001b[0m\u001b[1;33m(\u001b[0m\u001b[1;33m)\u001b[0m\u001b[1;33m\u001b[0m\u001b[1;33m\u001b[0m\u001b[0m\n\u001b[0m",
      "\u001b[1;31mTypeError\u001b[0m: hello() missing 1 required positional argument: 'name'"
     ]
    }
   ],
   "source": [
    "hello()"
   ]
  },
  {
   "cell_type": "code",
   "execution_count": 4,
   "id": "55f2b1ff",
   "metadata": {},
   "outputs": [
    {
     "name": "stdout",
     "output_type": "stream",
     "text": [
      "My name is Mayur and age is 23\n"
     ]
    }
   ],
   "source": [
    "hello(\"Mayur\")"
   ]
  },
  {
   "cell_type": "code",
   "execution_count": 5,
   "id": "6bb3f032",
   "metadata": {},
   "outputs": [
    {
     "name": "stdout",
     "output_type": "stream",
     "text": [
      "My name is Mayur and age is 32\n"
     ]
    }
   ],
   "source": [
    "hello(\"Mayur\", 32)"
   ]
  },
  {
   "cell_type": "code",
   "execution_count": 6,
   "id": "953164a9",
   "metadata": {},
   "outputs": [],
   "source": [
    "def hello(*args, **kwargs):\n",
    "    print(args)\n",
    "    print(kwargs)"
   ]
  },
  {
   "cell_type": "code",
   "execution_count": 7,
   "id": "a1981350",
   "metadata": {},
   "outputs": [
    {
     "name": "stdout",
     "output_type": "stream",
     "text": [
      "('Mayur', 'Tembhare')\n",
      "{'age': 21, 'dob': 1999}\n"
     ]
    }
   ],
   "source": [
    "hello(\"Mayur\", \"Tembhare\", age=21, dob=1999)"
   ]
  },
  {
   "cell_type": "code",
   "execution_count": 9,
   "id": "4a6e31b4",
   "metadata": {},
   "outputs": [],
   "source": [
    "lst= [\"Mayur\", \"Tembhare\"]\n",
    "dict_args= {'age': 21, 'dob': 1999}"
   ]
  },
  {
   "cell_type": "code",
   "execution_count": 10,
   "id": "2effa0ba",
   "metadata": {},
   "outputs": [
    {
     "name": "stdout",
     "output_type": "stream",
     "text": [
      "(['Mayur', 'Tembhare'], {'age': 21, 'dob': 1999})\n",
      "{}\n"
     ]
    }
   ],
   "source": [
    "hello(lst, dict_args)"
   ]
  },
  {
   "cell_type": "code",
   "execution_count": 12,
   "id": "44e2daff",
   "metadata": {},
   "outputs": [
    {
     "name": "stdout",
     "output_type": "stream",
     "text": [
      "('Mayur', 'Tembhare')\n",
      "{'age': 21, 'dob': 1999}\n"
     ]
    }
   ],
   "source": [
    "## See the Difference here and above statement the way of execution\n",
    "hello(*lst, **dict_args)"
   ]
  },
  {
   "cell_type": "code",
   "execution_count": null,
   "id": "f385f36c",
   "metadata": {},
   "outputs": [],
   "source": []
  }
 ],
 "metadata": {
  "kernelspec": {
   "display_name": "Python 3 (ipykernel)",
   "language": "python",
   "name": "python3"
  },
  "language_info": {
   "codemirror_mode": {
    "name": "ipython",
    "version": 3
   },
   "file_extension": ".py",
   "mimetype": "text/x-python",
   "name": "python",
   "nbconvert_exporter": "python",
   "pygments_lexer": "ipython3",
   "version": "3.9.7"
  }
 },
 "nbformat": 4,
 "nbformat_minor": 5
}
