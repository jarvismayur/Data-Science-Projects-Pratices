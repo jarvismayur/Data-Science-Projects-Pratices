{
 "cells": [
  {
   "cell_type": "markdown",
   "id": "fb553384-0325-4d34-ade1-47e785d20f0f",
   "metadata": {},
   "source": [
    "## Multiple Inheritance"
   ]
  },
  {
   "cell_type": "code",
   "execution_count": 1,
   "id": "4d192c78-6c81-4562-a8fa-ea5e48b4ed88",
   "metadata": {},
   "outputs": [],
   "source": [
    "class A:\n",
    "    def method1(self):\n",
    "        print(\"A class method is called.\" )\n"
   ]
  },
  {
   "cell_type": "code",
   "execution_count": 2,
   "id": "656f71ee-39ed-4737-9064-0846e584af8a",
   "metadata": {},
   "outputs": [],
   "source": [
    "class B(A):\n",
    "    def method1(self):\n",
    "        print(\"B class method1 is called.\")\n",
    "    def method2(self):\n",
    "        print(\"B class method2 is called.\")"
   ]
  },
  {
   "cell_type": "code",
   "execution_count": 3,
   "id": "73f810ee-3b76-41c1-a69d-d73f0a50eaea",
   "metadata": {},
   "outputs": [],
   "source": [
    "class C(A):\n",
    "    def method1(self):\n",
    "        print(\"C class method is called.\")"
   ]
  },
  {
   "cell_type": "code",
   "execution_count": 4,
   "id": "b7cb4aef-73af-4354-b2d0-cc64b1895db7",
   "metadata": {},
   "outputs": [],
   "source": [
    "class D(B,C):\n",
    "    def method1(self):\n",
    "        print(\"D class method is called.\")\n",
    "        C.method1(self)\n",
    "        B.method1(self)\n",
    "        A.method1(self)"
   ]
  },
  {
   "cell_type": "code",
   "execution_count": 6,
   "id": "d1d838fe-8c40-4bc5-bf0c-c4e2248cb04c",
   "metadata": {},
   "outputs": [],
   "source": [
    "d = D()"
   ]
  },
  {
   "cell_type": "code",
   "execution_count": 8,
   "id": "2e65e32f-9436-46ee-a70c-a615f450bfb7",
   "metadata": {},
   "outputs": [
    {
     "name": "stdout",
     "output_type": "stream",
     "text": [
      "D class method is called.\n",
      "C class method is called.\n",
      "B class method1 is called.\n",
      "A class method is called.\n"
     ]
    }
   ],
   "source": [
    "d.method1()"
   ]
  },
  {
   "cell_type": "code",
   "execution_count": 9,
   "id": "bdd69406-eb42-4c96-b5aa-2ac9d25dbff2",
   "metadata": {},
   "outputs": [
    {
     "name": "stdout",
     "output_type": "stream",
     "text": [
      "B class method1 is called.\n"
     ]
    }
   ],
   "source": [
    "B.method1(d)"
   ]
  },
  {
   "cell_type": "code",
   "execution_count": 10,
   "id": "19941ec0-ef44-4c93-9978-33af26d6bc5c",
   "metadata": {},
   "outputs": [
    {
     "name": "stdout",
     "output_type": "stream",
     "text": [
      "A class method is called.\n"
     ]
    }
   ],
   "source": [
    "A.method1(d)"
   ]
  },
  {
   "cell_type": "code",
   "execution_count": null,
   "id": "a70bb56b-2e3e-4706-9878-8acd10881eb1",
   "metadata": {},
   "outputs": [],
   "source": []
  }
 ],
 "metadata": {
  "kernelspec": {
   "display_name": "Python 3 (ipykernel)",
   "language": "python",
   "name": "python3"
  },
  "language_info": {
   "codemirror_mode": {
    "name": "ipython",
    "version": 3
   },
   "file_extension": ".py",
   "mimetype": "text/x-python",
   "name": "python",
   "nbconvert_exporter": "python",
   "pygments_lexer": "ipython3",
   "version": "3.9.12"
  }
 },
 "nbformat": 4,
 "nbformat_minor": 5
}
