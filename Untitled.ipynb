{
 "cells": [
  {
   "cell_type": "markdown",
   "id": "8ea36d33-c1bd-445b-89d0-c8c783ea4119",
   "metadata": {},
   "source": [
    "## Is Keyword"
   ]
  },
  {
   "cell_type": "code",
   "execution_count": null,
   "id": "5dbc326e-82da-4836-88ea-6997669d07e1",
   "metadata": {},
   "outputs": [],
   "source": [
    "# is vs ==\n",
    "lst1=[\""
   ]
  }
 ],
 "metadata": {
  "kernelspec": {
   "display_name": "Python 3 (ipykernel)",
   "language": "python",
   "name": "python3"
  },
  "language_info": {
   "codemirror_mode": {
    "name": "ipython",
    "version": 3
   },
   "file_extension": ".py",
   "mimetype": "text/x-python",
   "name": "python",
   "nbconvert_exporter": "python",
   "pygments_lexer": "ipython3",
   "version": "3.9.12"
  }
 },
 "nbformat": 4,
 "nbformat_minor": 5
}
