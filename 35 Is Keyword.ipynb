{
 "cells": [
  {
   "cell_type": "markdown",
   "id": "8ea36d33-c1bd-445b-89d0-c8c783ea4119",
   "metadata": {},
   "source": [
    "## Is Keyword"
   ]
  },
  {
   "cell_type": "code",
   "execution_count": 1,
   "id": "5dbc326e-82da-4836-88ea-6997669d07e1",
   "metadata": {},
   "outputs": [
    {
     "data": {
      "text/plain": [
       "True"
      ]
     },
     "execution_count": 1,
     "metadata": {},
     "output_type": "execute_result"
    }
   ],
   "source": [
    "# is vs ==\n",
    "lst1=[\"Mayur\", \"Mayur1\", \"Mayur2\"]\n",
    "lst2=[\"Mayur\", \"Mayur1\", \"Mayur2\"]\n",
    "lst1 == lst2"
   ]
  },
  {
   "cell_type": "code",
   "execution_count": 2,
   "id": "8647f3dc-c666-46d2-b10b-c076901ebf29",
   "metadata": {},
   "outputs": [
    {
     "data": {
      "text/plain": [
       "True"
      ]
     },
     "execution_count": 2,
     "metadata": {},
     "output_type": "execute_result"
    }
   ],
   "source": [
    "a= \"Mayur\"\n",
    "b = \"Mayur\"\n",
    "a == b"
   ]
  },
  {
   "cell_type": "code",
   "execution_count": 3,
   "id": "dd0748a1-af96-4167-add2-9c5ce3015cfa",
   "metadata": {},
   "outputs": [
    {
     "data": {
      "text/plain": [
       "True"
      ]
     },
     "execution_count": 3,
     "metadata": {},
     "output_type": "execute_result"
    }
   ],
   "source": [
    "lst1 = [\"Mayur\", \"Mayur1\", \"Mayur2\"]\n",
    "lst2 = lst1\n",
    "lst1 is lst2"
   ]
  },
  {
   "cell_type": "code",
   "execution_count": 4,
   "id": "eb1e9115-af49-4ab7-b4a3-493b66235d83",
   "metadata": {},
   "outputs": [
    {
     "data": {
      "text/plain": [
       "True"
      ]
     },
     "execution_count": 4,
     "metadata": {},
     "output_type": "execute_result"
    }
   ],
   "source": [
    "lst2 is lst1"
   ]
  },
  {
   "cell_type": "code",
   "execution_count": 6,
   "id": "3f209862-00d7-48bb-b502-79ea1a6b2a54",
   "metadata": {},
   "outputs": [],
   "source": [
    "lst2[0] = \"Mayur3\""
   ]
  },
  {
   "cell_type": "code",
   "execution_count": 7,
   "id": "12a491e4-6cfe-4f07-993f-8cad3a713341",
   "metadata": {},
   "outputs": [
    {
     "data": {
      "text/plain": [
       "['Mayur3', 'Mayur1', 'Mayur2']"
      ]
     },
     "execution_count": 7,
     "metadata": {},
     "output_type": "execute_result"
    }
   ],
   "source": [
    "lst2"
   ]
  },
  {
   "cell_type": "code",
   "execution_count": 8,
   "id": "2e6cf479-2c66-4274-b88d-eb040ca23379",
   "metadata": {},
   "outputs": [
    {
     "data": {
      "text/plain": [
       "['Mayur3', 'Mayur1', 'Mayur2']"
      ]
     },
     "execution_count": 8,
     "metadata": {},
     "output_type": "execute_result"
    }
   ],
   "source": [
    "lst1"
   ]
  },
  {
   "cell_type": "code",
   "execution_count": null,
   "id": "5490b1da-4077-4653-889b-ad36c9674b3e",
   "metadata": {},
   "outputs": [],
   "source": []
  }
 ],
 "metadata": {
  "kernelspec": {
   "display_name": "Python 3 (ipykernel)",
   "language": "python",
   "name": "python3"
  },
  "language_info": {
   "codemirror_mode": {
    "name": "ipython",
    "version": 3
   },
   "file_extension": ".py",
   "mimetype": "text/x-python",
   "name": "python",
   "nbconvert_exporter": "python",
   "pygments_lexer": "ipython3",
   "version": "3.9.12"
  }
 },
 "nbformat": 4,
 "nbformat_minor": 5
}
