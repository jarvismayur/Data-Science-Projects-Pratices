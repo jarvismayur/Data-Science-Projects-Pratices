{
 "cells": [
  {
   "cell_type": "code",
   "execution_count": 1,
   "id": "900b74d7",
   "metadata": {},
   "outputs": [],
   "source": [
    "## All the class variables are public\n",
    "## Car Blueprint\n",
    "class Car():\n",
    "    def __new__(self,windows,doors,enginetype):\n",
    "        print(\"The Object has started getting initialized\")\n",
    "    def __init__(self, windows, doors,enginetype):\n",
    "        self.windows = windows\n",
    "        self.doors = doors\n",
    "        self.enginetype = enginetype\n",
    "    def __str__(self):\n",
    "        return \"The Object has been initialized\"\n",
    "    def __sizeof__(self):\n",
    "        return \"This displays size of the object\"\n",
    "    def drive(self):\n",
    "        print(\"The Person drives the car\")\n",
    "        "
   ]
  },
  {
   "cell_type": "code",
   "execution_count": 2,
   "id": "c6518199",
   "metadata": {},
   "outputs": [
    {
     "name": "stdout",
     "output_type": "stream",
     "text": [
      "The Object has started getting initialized\n"
     ]
    }
   ],
   "source": [
    "c = Car(4,5,\"Desiel\") # Constructor is executed Here"
   ]
  },
  {
   "cell_type": "code",
   "execution_count": 3,
   "id": "88313603",
   "metadata": {},
   "outputs": [
    {
     "name": "stdout",
     "output_type": "stream",
     "text": [
      "None\n"
     ]
    }
   ],
   "source": [
    "print(c) # This should parse __str__() and execute and return some thing !!"
   ]
  },
  {
   "cell_type": "code",
   "execution_count": 4,
   "id": "915d145b",
   "metadata": {},
   "outputs": [],
   "source": [
    "c "
   ]
  },
  {
   "cell_type": "code",
   "execution_count": 5,
   "id": "a7624e77",
   "metadata": {},
   "outputs": [
    {
     "data": {
      "text/plain": [
       "16"
      ]
     },
     "execution_count": 5,
     "metadata": {},
     "output_type": "execute_result"
    }
   ],
   "source": [
    "c.__sizeof__() # Returns the Size of the Object"
   ]
  },
  {
   "cell_type": "code",
   "execution_count": 6,
   "id": "a42aa523",
   "metadata": {},
   "outputs": [
    {
     "data": {
      "text/plain": [
       "['__bool__',\n",
       " '__class__',\n",
       " '__delattr__',\n",
       " '__dir__',\n",
       " '__doc__',\n",
       " '__eq__',\n",
       " '__format__',\n",
       " '__ge__',\n",
       " '__getattribute__',\n",
       " '__gt__',\n",
       " '__hash__',\n",
       " '__init__',\n",
       " '__init_subclass__',\n",
       " '__le__',\n",
       " '__lt__',\n",
       " '__ne__',\n",
       " '__new__',\n",
       " '__reduce__',\n",
       " '__reduce_ex__',\n",
       " '__repr__',\n",
       " '__setattr__',\n",
       " '__sizeof__',\n",
       " '__str__',\n",
       " '__subclasshook__']"
      ]
     },
     "execution_count": 6,
     "metadata": {},
     "output_type": "execute_result"
    }
   ],
   "source": [
    "dir(c) ## Returns all the function related to the object of the class private, public, inbuilt and Protected... !!"
   ]
  },
  {
   "cell_type": "code",
   "execution_count": null,
   "id": "db5615af",
   "metadata": {},
   "outputs": [],
   "source": []
  }
 ],
 "metadata": {
  "kernelspec": {
   "display_name": "Python 3 (ipykernel)",
   "language": "python",
   "name": "python3"
  },
  "language_info": {
   "codemirror_mode": {
    "name": "ipython",
    "version": 3
   },
   "file_extension": ".py",
   "mimetype": "text/x-python",
   "name": "python",
   "nbconvert_exporter": "python",
   "pygments_lexer": "ipython3",
   "version": "3.9.7"
  }
 },
 "nbformat": 4,
 "nbformat_minor": 5
}
