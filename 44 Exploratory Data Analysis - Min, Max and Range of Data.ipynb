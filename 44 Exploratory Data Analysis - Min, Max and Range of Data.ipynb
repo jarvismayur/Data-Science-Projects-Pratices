{
 "cells": [
  {
   "cell_type": "markdown",
   "id": "d2ba3d00",
   "metadata": {},
   "source": [
    "# Min, Max and Range of Data"
   ]
  },
  {
   "cell_type": "code",
   "execution_count": 1,
   "id": "439992dc",
   "metadata": {},
   "outputs": [],
   "source": [
    "# import libraries\n",
    "import pandas as pd\n",
    "import numpy as np"
   ]
  },
  {
   "cell_type": "markdown",
   "id": "295e68cd",
   "metadata": {},
   "source": [
    "This is the dataset for **Customer Churn Problem**"
   ]
  },
  {
   "cell_type": "code",
   "execution_count": 2,
   "id": "a9d1b5b2",
   "metadata": {},
   "outputs": [],
   "source": [
    "# importing dataset\n",
    "data = pd.read_csv('churn_prediction.csv')"
   ]
  },
  {
   "cell_type": "markdown",
   "id": "e51848f2",
   "metadata": {},
   "source": [
    "## Identification of Datatypes"
   ]
  },
  {
   "cell_type": "code",
   "execution_count": 3,
   "id": "4172e23a",
   "metadata": {},
   "outputs": [
    {
     "data": {
      "text/plain": [
       "customer_id                         int64\n",
       "vintage                             int64\n",
       "age                                 int64\n",
       "gender                             object\n",
       "dependents                        float64\n",
       "occupation                         object\n",
       "city                              float64\n",
       "customer_nw_category                int64\n",
       "branch_code                         int64\n",
       "current_balance                   float64\n",
       "previous_month_end_balance        float64\n",
       "average_monthly_balance_prevQ     float64\n",
       "average_monthly_balance_prevQ2    float64\n",
       "current_month_credit              float64\n",
       "previous_month_credit             float64\n",
       "current_month_debit               float64\n",
       "previous_month_debit              float64\n",
       "current_month_balance             float64\n",
       "previous_month_balance            float64\n",
       "churn                               int64\n",
       "last_transaction                   object\n",
       "dtype: object"
      ]
     },
     "execution_count": 3,
     "metadata": {},
     "output_type": "execute_result"
    }
   ],
   "source": [
    "data.dtypes"
   ]
  },
  {
   "cell_type": "markdown",
   "id": "37c8377b",
   "metadata": {},
   "source": [
    "## Isolating numerical columns\n",
    "\n",
    "Storing indices of **Integer and Float** in numerical_cols because we are dealing with **numerical variables**"
   ]
  },
  {
   "cell_type": "code",
   "execution_count": 5,
   "id": "b900a55a",
   "metadata": {},
   "outputs": [
    {
     "data": {
      "text/plain": [
       "Index(['customer_id', 'vintage', 'age', 'dependents', 'city',\n",
       "       'customer_nw_category', 'branch_code', 'current_balance',\n",
       "       'previous_month_end_balance', 'average_monthly_balance_prevQ',\n",
       "       'average_monthly_balance_prevQ2', 'current_month_credit',\n",
       "       'previous_month_credit', 'current_month_debit', 'previous_month_debit',\n",
       "       'current_month_balance', 'previous_month_balance', 'churn'],\n",
       "      dtype='object')"
      ]
     },
     "execution_count": 5,
     "metadata": {},
     "output_type": "execute_result"
    }
   ],
   "source": [
    "# Storing indices of all numerical data types in numerical_cols\n",
    "numerical_cols = data.select_dtypes(include=['int','float']).columns\n",
    "\n",
    "# checking\n",
    "numerical_cols"
   ]
  },
  {
   "cell_type": "markdown",
   "id": "caa919d6",
   "metadata": {},
   "source": [
    "## Min observation"
   ]
  },
  {
   "cell_type": "code",
   "execution_count": 8,
   "id": "13efa67a",
   "metadata": {},
   "outputs": [
    {
     "data": {
      "text/html": [
       "<div>\n",
       "<style scoped>\n",
       "    .dataframe tbody tr th:only-of-type {\n",
       "        vertical-align: middle;\n",
       "    }\n",
       "\n",
       "    .dataframe tbody tr th {\n",
       "        vertical-align: top;\n",
       "    }\n",
       "\n",
       "    .dataframe thead th {\n",
       "        text-align: right;\n",
       "    }\n",
       "</style>\n",
       "<table border=\"1\" class=\"dataframe\">\n",
       "  <thead>\n",
       "    <tr style=\"text-align: right;\">\n",
       "      <th></th>\n",
       "      <th>customer_id</th>\n",
       "      <th>vintage</th>\n",
       "      <th>age</th>\n",
       "      <th>gender</th>\n",
       "      <th>dependents</th>\n",
       "      <th>occupation</th>\n",
       "      <th>city</th>\n",
       "      <th>customer_nw_category</th>\n",
       "      <th>branch_code</th>\n",
       "      <th>current_balance</th>\n",
       "      <th>...</th>\n",
       "      <th>average_monthly_balance_prevQ</th>\n",
       "      <th>average_monthly_balance_prevQ2</th>\n",
       "      <th>current_month_credit</th>\n",
       "      <th>previous_month_credit</th>\n",
       "      <th>current_month_debit</th>\n",
       "      <th>previous_month_debit</th>\n",
       "      <th>current_month_balance</th>\n",
       "      <th>previous_month_balance</th>\n",
       "      <th>churn</th>\n",
       "      <th>last_transaction</th>\n",
       "    </tr>\n",
       "  </thead>\n",
       "  <tbody>\n",
       "    <tr>\n",
       "      <th>12608</th>\n",
       "      <td>13467</td>\n",
       "      <td>2140</td>\n",
       "      <td>80</td>\n",
       "      <td>Male</td>\n",
       "      <td>0.0</td>\n",
       "      <td>retired</td>\n",
       "      <td>1096.0</td>\n",
       "      <td>1</td>\n",
       "      <td>27</td>\n",
       "      <td>-5503.96</td>\n",
       "      <td>...</td>\n",
       "      <td>1694.57</td>\n",
       "      <td>868.26</td>\n",
       "      <td>9471.01</td>\n",
       "      <td>2680.04</td>\n",
       "      <td>15229.44</td>\n",
       "      <td>7859.37</td>\n",
       "      <td>1050.17</td>\n",
       "      <td>2002.97</td>\n",
       "      <td>1</td>\n",
       "      <td>2019-12-26</td>\n",
       "    </tr>\n",
       "  </tbody>\n",
       "</table>\n",
       "<p>1 rows × 21 columns</p>\n",
       "</div>"
      ],
      "text/plain": [
       "       customer_id  vintage  age gender  dependents occupation    city  \\\n",
       "12608        13467     2140   80   Male         0.0    retired  1096.0   \n",
       "\n",
       "       customer_nw_category  branch_code  current_balance  ...  \\\n",
       "12608                     1           27         -5503.96  ...   \n",
       "\n",
       "       average_monthly_balance_prevQ  average_monthly_balance_prevQ2  \\\n",
       "12608                        1694.57                          868.26   \n",
       "\n",
       "       current_month_credit  previous_month_credit  current_month_debit  \\\n",
       "12608               9471.01                2680.04             15229.44   \n",
       "\n",
       "       previous_month_debit  current_month_balance  previous_month_balance  \\\n",
       "12608               7859.37                1050.17                 2002.97   \n",
       "\n",
       "       churn  last_transaction  \n",
       "12608      1        2019-12-26  \n",
       "\n",
       "[1 rows x 21 columns]"
      ]
     },
     "execution_count": 8,
     "metadata": {},
     "output_type": "execute_result"
    }
   ],
   "source": [
    "# observation with dminimum current balance\n",
    "data[data['current_balance'] == data['current_balance'].min()]"
   ]
  },
  {
   "cell_type": "markdown",
   "id": "312191e3",
   "metadata": {},
   "source": [
    "- Customer's id is 25712\n",
    "- Customer has **maximum current month debit** is 7637857.36\n",
    "\n",
    "## Range\n",
    "\n",
    "**Range of Age** is our data is indicating the difference of Age between the oldest and youngest customers"
   ]
  },
  {
   "cell_type": "code",
   "execution_count": 9,
   "id": "8ac5aac0",
   "metadata": {},
   "outputs": [
    {
     "name": "stdout",
     "output_type": "stream",
     "text": [
      "1 90\n"
     ]
    }
   ],
   "source": [
    "# Range of Age\n",
    "print(data['age'].min(), data['age'].max())"
   ]
  },
  {
   "cell_type": "markdown",
   "id": "819071bd",
   "metadata": {},
   "source": [
    "- Oldest Customer Age is 90\n",
    "- Youngest Customer Age is 1\n",
    "- Range is [1,90]"
   ]
  },
  {
   "cell_type": "markdown",
   "id": "6e0f390c",
   "metadata": {},
   "source": [
    "## Max, Min, Range for each column"
   ]
  },
  {
   "cell_type": "code",
   "execution_count": 10,
   "id": "7edf0e42",
   "metadata": {},
   "outputs": [
    {
     "data": {
      "text/plain": [
       "customer_id                          30301.00\n",
       "vintage                               2476.00\n",
       "age                                     90.00\n",
       "dependents                              52.00\n",
       "city                                  1649.00\n",
       "customer_nw_category                     3.00\n",
       "branch_code                           4782.00\n",
       "current_balance                    5905904.03\n",
       "previous_month_end_balance         5740438.63\n",
       "average_monthly_balance_prevQ      5700289.57\n",
       "average_monthly_balance_prevQ2     5010170.10\n",
       "current_month_credit              12269845.39\n",
       "previous_month_credit              2361808.29\n",
       "current_month_debit                7637857.36\n",
       "previous_month_debit               1414168.06\n",
       "current_month_balance              5778184.77\n",
       "previous_month_balance             5720144.50\n",
       "churn                                    1.00\n",
       "dtype: float64"
      ]
     },
     "execution_count": 10,
     "metadata": {},
     "output_type": "execute_result"
    }
   ],
   "source": [
    "# Printing Max of every numerical column\n",
    "data[numerical_cols].max()"
   ]
  },
  {
   "cell_type": "markdown",
   "id": "2c283c28",
   "metadata": {},
   "source": [
    "- Maximum value of vintage for a customer is 12899.\n",
    "- Maximum age of a customer is our dataset is 90.\n",
    "- Maximum number of dependents in our dataset is 52.\n",
    "- Maximum data since last transaction is 365.\n",
    "- Maximum values of **current_balance, previous_month_end_balance, average_monthly_balance_prevQ, current_month_balance, previous_month_balance** are close to 57 lakhs.\n",
    "- Maximum value for current_month_credit is 1269845.39\n",
    "- Maximum value for previous_month_credit is 2361808.29\n",
    "- Maximum value for current_month_debit and previous_month debit is respectively 7637857.36 and 1414168.06.\n",
    "- The features like **customer_id, city, customer_nw_category, branch_code, chrun** are required to be treated as categorical variable so thier maximum value don't represent numerical significance.\n"
   ]
  },
  {
   "cell_type": "code",
   "execution_count": 11,
   "id": "2d8a6d6b",
   "metadata": {},
   "outputs": [
    {
     "data": {
      "text/plain": [
       "customer_id                           1.00\n",
       "vintage                              73.00\n",
       "age                                   1.00\n",
       "dependents                            0.00\n",
       "city                                  0.00\n",
       "customer_nw_category                  1.00\n",
       "branch_code                           1.00\n",
       "current_balance                   -5503.96\n",
       "previous_month_end_balance        -3149.57\n",
       "average_monthly_balance_prevQ      1428.69\n",
       "average_monthly_balance_prevQ2   -16506.10\n",
       "current_month_credit                  0.01\n",
       "previous_month_credit                 0.01\n",
       "current_month_debit                   0.01\n",
       "previous_month_debit                  0.01\n",
       "current_month_balance             -3374.18\n",
       "previous_month_balance            -5171.92\n",
       "churn                                 0.00\n",
       "dtype: float64"
      ]
     },
     "execution_count": 11,
     "metadata": {},
     "output_type": "execute_result"
    }
   ],
   "source": [
    "# printing min of every numerical column\n",
    "data[numerical_cols].min()"
   ]
  },
  {
   "cell_type": "code",
   "execution_count": 13,
   "id": "12bcb5e1",
   "metadata": {},
   "outputs": [
    {
     "name": "stdout",
     "output_type": "stream",
     "text": [
      "range of customer_id: [1, 30301]\n",
      "range of vintage: [73, 2476]\n",
      "range of age: [1, 90]\n",
      "range of dependents: [0.0, 52.0]\n",
      "range of city: [0.0, 1649.0]\n",
      "range of customer_nw_category: [1, 3]\n",
      "range of branch_code: [1, 4782]\n",
      "range of current_balance: [-5503.96, 5905904.03]\n",
      "range of previous_month_end_balance: [-3149.57, 5740438.63]\n",
      "range of average_monthly_balance_prevQ: [1428.69, 5700289.57]\n",
      "range of average_monthly_balance_prevQ2: [-16506.1, 5010170.1]\n",
      "range of current_month_credit: [0.01, 12269845.39]\n",
      "range of previous_month_credit: [0.01, 2361808.29]\n",
      "range of current_month_debit: [0.01, 7637857.36]\n",
      "range of previous_month_debit: [0.01, 1414168.06]\n",
      "range of current_month_balance: [-3374.18, 5778184.77]\n",
      "range of previous_month_balance: [-5171.92, 5720144.5]\n",
      "range of churn: [0, 1]\n"
     ]
    }
   ],
   "source": [
    "for col in numerical_cols:\n",
    "    print(\"range of {}{}{}{}{}{}{}{}\".format(col,\":\",\" \",\"[\",data[col].min(), \", \", data[col].max(), \"]\"))"
   ]
  },
  {
   "cell_type": "markdown",
   "id": "f8beafb9",
   "metadata": {},
   "source": [
    "- Range of current_month_credit is highest among all features.\n",
    "- Range of days_since_last_transaction is 1 year."
   ]
  },
  {
   "cell_type": "code",
   "execution_count": null,
   "id": "54fce177",
   "metadata": {},
   "outputs": [],
   "source": []
  }
 ],
 "metadata": {
  "kernelspec": {
   "display_name": "Python 3 (ipykernel)",
   "language": "python",
   "name": "python3"
  },
  "language_info": {
   "codemirror_mode": {
    "name": "ipython",
    "version": 3
   },
   "file_extension": ".py",
   "mimetype": "text/x-python",
   "name": "python",
   "nbconvert_exporter": "python",
   "pygments_lexer": "ipython3",
   "version": "3.9.12"
  }
 },
 "nbformat": 4,
 "nbformat_minor": 5
}
