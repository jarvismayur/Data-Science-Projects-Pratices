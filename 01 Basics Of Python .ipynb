{
 "cells": [
  {
   "cell_type": "markdown",
   "id": "b69152f6",
   "metadata": {},
   "source": [
    "# Basic of Python\n",
    "## In this video we will discuss about\n",
    "\n",
    "- Various Datatypes in Python\n",
    "- Variable\n",
    "- Variables Assigment\n",
    "- Print Formatting"
   ]
  },
  {
   "cell_type": "markdown",
   "id": "fa1a2aeb",
   "metadata": {},
   "source": [
    " ## Various Data Types of Python "
   ]
  },
  {
   "cell_type": "markdown",
   "id": "c94a08ae",
   "metadata": {},
   "source": [
    "### Numbers\n",
    "\n",
    "## Python Tutorials \n",
    "\n",
    "### Welcome To Python \n",
    "\n",
    "- DataType"
   ]
  },
  {
   "cell_type": "code",
   "execution_count": 3,
   "id": "c3c21018",
   "metadata": {},
   "outputs": [
    {
     "data": {
      "text/plain": [
       "2"
      ]
     },
     "execution_count": 3,
     "metadata": {},
     "output_type": "execute_result"
    }
   ],
   "source": [
    "1 + 1"
   ]
  },
  {
   "cell_type": "code",
   "execution_count": 4,
   "id": "c95877e1",
   "metadata": {},
   "outputs": [
    {
     "data": {
      "text/plain": [
       "20"
      ]
     },
     "execution_count": 4,
     "metadata": {},
     "output_type": "execute_result"
    }
   ],
   "source": [
    "4*5"
   ]
  },
  {
   "cell_type": "code",
   "execution_count": 5,
   "id": "1069b41a",
   "metadata": {},
   "outputs": [
    {
     "data": {
      "text/plain": [
       "20"
      ]
     },
     "execution_count": 5,
     "metadata": {},
     "output_type": "execute_result"
    }
   ],
   "source": [
    "2*10"
   ]
  },
  {
   "cell_type": "code",
   "execution_count": 6,
   "id": "71c6f2ad",
   "metadata": {},
   "outputs": [
    {
     "data": {
      "text/plain": [
       "5.0"
      ]
     },
     "execution_count": 6,
     "metadata": {},
     "output_type": "execute_result"
    }
   ],
   "source": [
    "10/2"
   ]
  },
  {
   "cell_type": "code",
   "execution_count": 7,
   "id": "b2cf42d6",
   "metadata": {},
   "outputs": [
    {
     "data": {
      "text/plain": [
       "0"
      ]
     },
     "execution_count": 7,
     "metadata": {},
     "output_type": "execute_result"
    }
   ],
   "source": [
    "10%2"
   ]
  },
  {
   "cell_type": "code",
   "execution_count": 8,
   "id": "a3e0a0fd",
   "metadata": {},
   "outputs": [
    {
     "data": {
      "text/plain": [
       "100"
      ]
     },
     "execution_count": 8,
     "metadata": {},
     "output_type": "execute_result"
    }
   ],
   "source": [
    "10 ** 2"
   ]
  },
  {
   "cell_type": "markdown",
   "id": "89718e64",
   "metadata": {},
   "source": [
    "### Check the Data Type "
   ]
  },
  {
   "cell_type": "code",
   "execution_count": 9,
   "id": "0d165a1c",
   "metadata": {},
   "outputs": [
    {
     "data": {
      "text/plain": [
       "bool"
      ]
     },
     "execution_count": 9,
     "metadata": {},
     "output_type": "execute_result"
    }
   ],
   "source": [
    "type(True)"
   ]
  },
  {
   "cell_type": "code",
   "execution_count": 10,
   "id": "e050df88",
   "metadata": {},
   "outputs": [
    {
     "data": {
      "text/plain": [
       "str"
      ]
     },
     "execution_count": 10,
     "metadata": {},
     "output_type": "execute_result"
    }
   ],
   "source": [
    "type(\"Hello\")"
   ]
  },
  {
   "cell_type": "markdown",
   "id": "4f9b7e63",
   "metadata": {},
   "source": [
    "### String "
   ]
  },
  {
   "cell_type": "code",
   "execution_count": 11,
   "id": "0185e9fb",
   "metadata": {},
   "outputs": [
    {
     "data": {
      "text/plain": [
       "' Hello '"
      ]
     },
     "execution_count": 11,
     "metadata": {},
     "output_type": "execute_result"
    }
   ],
   "source": [
    "\" Hello \""
   ]
  },
  {
   "cell_type": "code",
   "execution_count": 13,
   "id": "f7d1000f",
   "metadata": {},
   "outputs": [
    {
     "data": {
      "text/plain": [
       "' Mayur Tembhare '"
      ]
     },
     "execution_count": 13,
     "metadata": {},
     "output_type": "execute_result"
    }
   ],
   "source": [
    "\" Mayur Tembhare \""
   ]
  },
  {
   "cell_type": "code",
   "execution_count": 14,
   "id": "22b93452",
   "metadata": {},
   "outputs": [
    {
     "data": {
      "text/plain": [
       "str"
      ]
     },
     "execution_count": 14,
     "metadata": {},
     "output_type": "execute_result"
    }
   ],
   "source": [
    "type(\"Mayur Tembhare\")"
   ]
  },
  {
   "cell_type": "markdown",
   "id": "66d0d713",
   "metadata": {},
   "source": [
    "### Varible Assignment"
   ]
  },
  {
   "cell_type": "code",
   "execution_count": 15,
   "id": "be44216b",
   "metadata": {},
   "outputs": [],
   "source": [
    "# Sytax \n",
    "\n",
    "# var_name = values"
   ]
  },
  {
   "cell_type": "code",
   "execution_count": 16,
   "id": "7931e8c5",
   "metadata": {},
   "outputs": [],
   "source": [
    "a = 10 "
   ]
  },
  {
   "cell_type": "code",
   "execution_count": 17,
   "id": "d45165c0",
   "metadata": {},
   "outputs": [
    {
     "data": {
      "text/plain": [
       "int"
      ]
     },
     "execution_count": 17,
     "metadata": {},
     "output_type": "execute_result"
    }
   ],
   "source": [
    "type(a)"
   ]
  },
  {
   "cell_type": "code",
   "execution_count": 18,
   "id": "8b4b35e9",
   "metadata": {},
   "outputs": [],
   "source": [
    "a = \"Mayur Tembhare\""
   ]
  },
  {
   "cell_type": "code",
   "execution_count": 19,
   "id": "246ba1bd",
   "metadata": {},
   "outputs": [
    {
     "data": {
      "text/plain": [
       "str"
      ]
     },
     "execution_count": 19,
     "metadata": {},
     "output_type": "execute_result"
    }
   ],
   "source": [
    "type(a)"
   ]
  },
  {
   "cell_type": "code",
   "execution_count": 20,
   "id": "ba2b72de",
   "metadata": {},
   "outputs": [],
   "source": [
    "## Mathematical Operator With Varibale Assignment"
   ]
  },
  {
   "cell_type": "code",
   "execution_count": 21,
   "id": "57d2feb0",
   "metadata": {},
   "outputs": [],
   "source": [
    "a = 10\n",
    "b= 20 "
   ]
  },
  {
   "cell_type": "code",
   "execution_count": 22,
   "id": "aabb7662",
   "metadata": {},
   "outputs": [
    {
     "name": "stdout",
     "output_type": "stream",
     "text": [
      "200\n",
      "0.5\n",
      "10\n",
      "200.5\n"
     ]
    }
   ],
   "source": [
    "print(a*b)\n",
    "print(a/b)\n",
    "print(a%b)\n",
    "print((a*b)+(a/b)) ## BODMAS\n"
   ]
  },
  {
   "cell_type": "code",
   "execution_count": 23,
   "id": "4e891231",
   "metadata": {},
   "outputs": [],
   "source": [
    "## Various Ways Of Printing "
   ]
  },
  {
   "cell_type": "code",
   "execution_count": 24,
   "id": "e50c64a8",
   "metadata": {},
   "outputs": [
    {
     "name": "stdout",
     "output_type": "stream",
     "text": [
      "HEllo \n"
     ]
    }
   ],
   "source": [
    "print(\"HEllo \")"
   ]
  },
  {
   "cell_type": "code",
   "execution_count": 25,
   "id": "a74cf348",
   "metadata": {},
   "outputs": [],
   "source": [
    "frist_name = \"Mayur\"\n",
    "last_name = \"Tembhare\""
   ]
  },
  {
   "cell_type": "code",
   "execution_count": 26,
   "id": "43a74e4f",
   "metadata": {},
   "outputs": [
    {
     "name": "stdout",
     "output_type": "stream",
     "text": [
      "My first name is Mayur and last name is Tembhare\n"
     ]
    }
   ],
   "source": [
    "print(\"My first name is {} and last name is {}\".format(frist_name, last_name))"
   ]
  },
  {
   "cell_type": "code",
   "execution_count": 27,
   "id": "c2814013",
   "metadata": {},
   "outputs": [
    {
     "name": "stdout",
     "output_type": "stream",
     "text": [
      "My frist name is Mayur and last name is Tembhare\n"
     ]
    }
   ],
   "source": [
    "print(\"My frist name is {frist} and last name is {last}\".format(frist=frist_name, last=last_name))"
   ]
  },
  {
   "cell_type": "code",
   "execution_count": 28,
   "id": "898caf4a",
   "metadata": {},
   "outputs": [
    {
     "data": {
      "text/plain": [
       "5"
      ]
     },
     "execution_count": 28,
     "metadata": {},
     "output_type": "execute_result"
    }
   ],
   "source": [
    "len(\"Mayur\")"
   ]
  },
  {
   "cell_type": "code",
   "execution_count": 29,
   "id": "3a5c8d2c",
   "metadata": {},
   "outputs": [
    {
     "data": {
      "text/plain": [
       "list"
      ]
     },
     "execution_count": 29,
     "metadata": {},
     "output_type": "execute_result"
    }
   ],
   "source": [
    "type(['1', 2,3,4,5])"
   ]
  },
  {
   "cell_type": "code",
   "execution_count": null,
   "id": "d22b20b5",
   "metadata": {},
   "outputs": [],
   "source": []
  }
 ],
 "metadata": {
  "kernelspec": {
   "display_name": "Python 3 (ipykernel)",
   "language": "python",
   "name": "python3"
  },
  "language_info": {
   "codemirror_mode": {
    "name": "ipython",
    "version": 3
   },
   "file_extension": ".py",
   "mimetype": "text/x-python",
   "name": "python",
   "nbconvert_exporter": "python",
   "pygments_lexer": "ipython3",
   "version": "3.9.7"
  }
 },
 "nbformat": 4,
 "nbformat_minor": 5
}
