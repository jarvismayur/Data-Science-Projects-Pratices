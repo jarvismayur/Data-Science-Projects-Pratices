{
 "cells": [
  {
   "cell_type": "markdown",
   "id": "1b0f4bda-5866-4375-b879-c21235064455",
   "metadata": {},
   "source": [
    "## Eval() Function - Evaluating Expression Dynamically "
   ]
  },
  {
   "cell_type": "code",
   "execution_count": 1,
   "id": "8996c948-b1cf-49d5-bea5-8e112b1b7287",
   "metadata": {},
   "outputs": [
    {
     "ename": "SyntaxError",
     "evalue": "invalid syntax (1658714209.py, line 1)",
     "output_type": "error",
     "traceback": [
      "\u001b[1;36m  Input \u001b[1;32mIn [1]\u001b[1;36m\u001b[0m\n\u001b[1;33m    5*5+\u001b[0m\n\u001b[1;37m        ^\u001b[0m\n\u001b[1;31mSyntaxError\u001b[0m\u001b[1;31m:\u001b[0m invalid syntax\n"
     ]
    }
   ],
   "source": [
    "5*5+"
   ]
  },
  {
   "cell_type": "code",
   "execution_count": 2,
   "id": "fd4a645d-109b-4cb1-a842-dcd93b9a4559",
   "metadata": {},
   "outputs": [
    {
     "data": {
      "text/plain": [
       "28.5"
      ]
     },
     "execution_count": 2,
     "metadata": {},
     "output_type": "execute_result"
    }
   ],
   "source": [
    "## Eval function evaluate python expression which are written as strings\n",
    "eval(\"5*5+7/2\")"
   ]
  },
  {
   "cell_type": "code",
   "execution_count": 4,
   "id": "efb3c656-17ca-4ad7-b83d-e8254e296c2f",
   "metadata": {},
   "outputs": [
    {
     "name": "stdin",
     "output_type": "stream",
     "text": [
      "Enter the Python  Expression 5+5+62-81*9/12\n"
     ]
    },
    {
     "data": {
      "text/plain": [
       "11.25"
      ]
     },
     "execution_count": 4,
     "metadata": {},
     "output_type": "execute_result"
    }
   ],
   "source": [
    "eval(input(\"Enter the Python  Expression\"))"
   ]
  },
  {
   "cell_type": "code",
   "execution_count": 5,
   "id": "8947de27-0f58-46de-a218-08791a66e83a",
   "metadata": {},
   "outputs": [
    {
     "data": {
      "text/plain": [
       "15"
      ]
     },
     "execution_count": 5,
     "metadata": {},
     "output_type": "execute_result"
    }
   ],
   "source": [
    "sum([1,2,3,4,5])"
   ]
  },
  {
   "cell_type": "code",
   "execution_count": 6,
   "id": "d483fa1c-758f-45e8-9462-b72d8b1494e4",
   "metadata": {},
   "outputs": [],
   "source": [
    "def square_num(num):\n",
    "    return num**2"
   ]
  },
  {
   "cell_type": "code",
   "execution_count": 8,
   "id": "3d42cde1-a0cd-4c94-9e03-7d0b7fdd4d3c",
   "metadata": {},
   "outputs": [
    {
     "data": {
      "text/plain": [
       "25"
      ]
     },
     "execution_count": 8,
     "metadata": {},
     "output_type": "execute_result"
    }
   ],
   "source": [
    "eval(\"square_num(5)\")"
   ]
  },
  {
   "cell_type": "markdown",
   "id": "d267756e-015d-489e-9459-cca2c1edc908",
   "metadata": {},
   "source": [
    "### How Does the Eval Work\n",
    "\n",
    "- Parse python Expression\n",
    "- Compile into a Byte Code\n",
    "- Evaluate the Python Expression\n",
    "- It will return the result"
   ]
  },
  {
   "cell_type": "code",
   "execution_count": 9,
   "id": "4b776ddb-e551-4c57-9d08-3702d3a6f0d3",
   "metadata": {},
   "outputs": [],
   "source": [
    "var = compile(\"5*5\", \"<string>\",\"eval\")"
   ]
  },
  {
   "cell_type": "code",
   "execution_count": 10,
   "id": "f2644f38-209e-46a0-b97a-68f243082b9b",
   "metadata": {},
   "outputs": [
    {
     "data": {
      "text/plain": [
       "25"
      ]
     },
     "execution_count": 10,
     "metadata": {},
     "output_type": "execute_result"
    }
   ],
   "source": [
    "eval(var)"
   ]
  },
  {
   "cell_type": "code",
   "execution_count": 12,
   "id": "c16b79f5-535d-4635-b2ce-a03257cd617e",
   "metadata": {},
   "outputs": [
    {
     "data": {
      "text/plain": [
       "160"
      ]
     },
     "execution_count": 12,
     "metadata": {},
     "output_type": "execute_result"
    }
   ],
   "source": [
    "### Globals\n",
    "x= 10\n",
    "eval(\"x+50+x**2\",{\"x\":x}) ## It can Take the Parameters as Global Variables to evaluate the expressions. "
   ]
  },
  {
   "cell_type": "code",
   "execution_count": 13,
   "id": "12055c44-13c4-43dd-b654-f18274fd1fcd",
   "metadata": {},
   "outputs": [
    {
     "data": {
      "text/plain": [
       "1200"
      ]
     },
     "execution_count": 13,
     "metadata": {},
     "output_type": "execute_result"
    }
   ],
   "source": [
    "x = 100 \n",
    "z = 100\n",
    "eval(\"x+z+w\",{\"x\":x,\"z\":100, \"w\":1000})"
   ]
  },
  {
   "cell_type": "code",
   "execution_count": 14,
   "id": "d4a6d79b-8e7e-45fb-91b1-678715eeacd6",
   "metadata": {},
   "outputs": [
    {
     "data": {
      "text/plain": [
       "10200"
      ]
     },
     "execution_count": 14,
     "metadata": {},
     "output_type": "execute_result"
    }
   ],
   "source": [
    "x = 100\n",
    "z = 100\n",
    "y = 10000\n",
    "eval(\"x+y+z\")"
   ]
  },
  {
   "cell_type": "code",
   "execution_count": 15,
   "id": "d988f33f-82e4-4bed-8506-6d3b0163caef",
   "metadata": {},
   "outputs": [
    {
     "data": {
      "text/plain": [
       "1300"
      ]
     },
     "execution_count": 15,
     "metadata": {},
     "output_type": "execute_result"
    }
   ],
   "source": [
    "eval(\"a+b+c\",{},{\"a\":100,\"b\":200,\"c\":1000})"
   ]
  },
  {
   "cell_type": "code",
   "execution_count": 16,
   "id": "48069333-9495-4c94-8d03-b58f2786ca4e",
   "metadata": {},
   "outputs": [
    {
     "data": {
      "text/plain": [
       "True"
      ]
     },
     "execution_count": 16,
     "metadata": {},
     "output_type": "execute_result"
    }
   ],
   "source": [
    "a=100\n",
    "b=200\n",
    "eval(\"a<b\")"
   ]
  },
  {
   "cell_type": "code",
   "execution_count": 17,
   "id": "d92c2477-89cc-48ce-a943-8bc9d371d9c8",
   "metadata": {},
   "outputs": [
    {
     "ename": "NameError",
     "evalue": "name 'x' is not defined",
     "output_type": "error",
     "traceback": [
      "\u001b[1;31m---------------------------------------------------------------------------\u001b[0m",
      "\u001b[1;31mNameError\u001b[0m                                 Traceback (most recent call last)",
      "Input \u001b[1;32mIn [17]\u001b[0m, in \u001b[0;36m<cell line: 3>\u001b[1;34m()\u001b[0m\n\u001b[0;32m      1\u001b[0m x\u001b[38;5;241m=\u001b[39m\u001b[38;5;241m100\u001b[39m\n\u001b[0;32m      2\u001b[0m y\u001b[38;5;241m=\u001b[39m\u001b[38;5;241m100\u001b[39m\n\u001b[1;32m----> 3\u001b[0m \u001b[38;5;28;43meval\u001b[39;49m\u001b[43m(\u001b[49m\u001b[38;5;124;43m\"\u001b[39;49m\u001b[38;5;124;43mx+y\u001b[39;49m\u001b[38;5;124;43m\"\u001b[39;49m\u001b[43m,\u001b[49m\u001b[43m{\u001b[49m\u001b[43m}\u001b[49m\u001b[43m,\u001b[49m\u001b[43m{\u001b[49m\u001b[43m}\u001b[49m\u001b[43m)\u001b[49m\n",
      "File \u001b[1;32m<string>:1\u001b[0m, in \u001b[0;36m<module>\u001b[1;34m\u001b[0m\n",
      "\u001b[1;31mNameError\u001b[0m: name 'x' is not defined"
     ]
    }
   ],
   "source": [
    "x=100\n",
    "y=100\n",
    "eval(\"x+y\",{},{})"
   ]
  },
  {
   "cell_type": "code",
   "execution_count": null,
   "id": "2292d39b-6cb9-4a74-90dc-a2d60f20c308",
   "metadata": {},
   "outputs": [],
   "source": []
  }
 ],
 "metadata": {
  "kernelspec": {
   "display_name": "Python 3 (ipykernel)",
   "language": "python",
   "name": "python3"
  },
  "language_info": {
   "codemirror_mode": {
    "name": "ipython",
    "version": 3
   },
   "file_extension": ".py",
   "mimetype": "text/x-python",
   "name": "python",
   "nbconvert_exporter": "python",
   "pygments_lexer": "ipython3",
   "version": "3.9.12"
  }
 },
 "nbformat": 4,
 "nbformat_minor": 5
}
